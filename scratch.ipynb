{
 "cells": [
  {
   "cell_type": "code",
   "execution_count": 21,
   "metadata": {},
   "outputs": [],
   "source": [
    "import pandas as pd\n",
    "import matplotlib.pyplot as plt\n",
    "import numpy as np\n",
    "from sklearn.model_selection import train_test_split, cross_val_score, GridSearchCV, RandomizedSearchCV\n",
    "from sklearn.impute import SimpleImputer\n",
    "from sklearn.preprocessing import OneHotEncoder, StandardScaler, FunctionTransformer\n",
    "from sklearn.pipeline import Pipeline\n",
    "from sklearn.compose import ColumnTransformer, make_column_selector\n",
    "from sklearn.base import BaseEstimator, TransformerMixin\n",
    "from sklearn.linear_model import LinearRegression\n",
    "from sklearn.metrics import mean_squared_error, mean_absolute_error\n",
    "from sklearn.tree import DecisionTreeRegressor\n",
    "from sklearn.ensemble import RandomForestRegressor\n",
    "from sklearn.svm import SVR"
   ]
  },
  {
   "cell_type": "code",
   "execution_count": 2,
   "metadata": {},
   "outputs": [
    {
     "data": {
      "text/html": [
       "<div>\n",
       "<style scoped>\n",
       "    .dataframe tbody tr th:only-of-type {\n",
       "        vertical-align: middle;\n",
       "    }\n",
       "\n",
       "    .dataframe tbody tr th {\n",
       "        vertical-align: top;\n",
       "    }\n",
       "\n",
       "    .dataframe thead th {\n",
       "        text-align: right;\n",
       "    }\n",
       "</style>\n",
       "<table border=\"1\" class=\"dataframe\">\n",
       "  <thead>\n",
       "    <tr style=\"text-align: right;\">\n",
       "      <th></th>\n",
       "      <th>id</th>\n",
       "      <th>date</th>\n",
       "      <th>price</th>\n",
       "      <th>bedrooms</th>\n",
       "      <th>bathrooms</th>\n",
       "      <th>sqft_living</th>\n",
       "      <th>sqft_lot</th>\n",
       "      <th>floors</th>\n",
       "      <th>waterfront</th>\n",
       "      <th>view</th>\n",
       "      <th>...</th>\n",
       "      <th>grade</th>\n",
       "      <th>sqft_above</th>\n",
       "      <th>sqft_basement</th>\n",
       "      <th>yr_built</th>\n",
       "      <th>yr_renovated</th>\n",
       "      <th>zipcode</th>\n",
       "      <th>lat</th>\n",
       "      <th>long</th>\n",
       "      <th>sqft_living15</th>\n",
       "      <th>sqft_lot15</th>\n",
       "    </tr>\n",
       "  </thead>\n",
       "  <tbody>\n",
       "    <tr>\n",
       "      <th>0</th>\n",
       "      <td>7129300520</td>\n",
       "      <td>20141013T000000</td>\n",
       "      <td>221900.0</td>\n",
       "      <td>3</td>\n",
       "      <td>1.00</td>\n",
       "      <td>1180</td>\n",
       "      <td>5650</td>\n",
       "      <td>1.0</td>\n",
       "      <td>0</td>\n",
       "      <td>0</td>\n",
       "      <td>...</td>\n",
       "      <td>7</td>\n",
       "      <td>1180</td>\n",
       "      <td>0</td>\n",
       "      <td>1955</td>\n",
       "      <td>0</td>\n",
       "      <td>98178</td>\n",
       "      <td>47.5112</td>\n",
       "      <td>-122.257</td>\n",
       "      <td>1340</td>\n",
       "      <td>5650</td>\n",
       "    </tr>\n",
       "    <tr>\n",
       "      <th>1</th>\n",
       "      <td>6414100192</td>\n",
       "      <td>20141209T000000</td>\n",
       "      <td>538000.0</td>\n",
       "      <td>3</td>\n",
       "      <td>2.25</td>\n",
       "      <td>2570</td>\n",
       "      <td>7242</td>\n",
       "      <td>2.0</td>\n",
       "      <td>0</td>\n",
       "      <td>0</td>\n",
       "      <td>...</td>\n",
       "      <td>7</td>\n",
       "      <td>2170</td>\n",
       "      <td>400</td>\n",
       "      <td>1951</td>\n",
       "      <td>1991</td>\n",
       "      <td>98125</td>\n",
       "      <td>47.7210</td>\n",
       "      <td>-122.319</td>\n",
       "      <td>1690</td>\n",
       "      <td>7639</td>\n",
       "    </tr>\n",
       "    <tr>\n",
       "      <th>2</th>\n",
       "      <td>5631500400</td>\n",
       "      <td>20150225T000000</td>\n",
       "      <td>180000.0</td>\n",
       "      <td>2</td>\n",
       "      <td>1.00</td>\n",
       "      <td>770</td>\n",
       "      <td>10000</td>\n",
       "      <td>1.0</td>\n",
       "      <td>0</td>\n",
       "      <td>0</td>\n",
       "      <td>...</td>\n",
       "      <td>6</td>\n",
       "      <td>770</td>\n",
       "      <td>0</td>\n",
       "      <td>1933</td>\n",
       "      <td>0</td>\n",
       "      <td>98028</td>\n",
       "      <td>47.7379</td>\n",
       "      <td>-122.233</td>\n",
       "      <td>2720</td>\n",
       "      <td>8062</td>\n",
       "    </tr>\n",
       "    <tr>\n",
       "      <th>3</th>\n",
       "      <td>2487200875</td>\n",
       "      <td>20141209T000000</td>\n",
       "      <td>604000.0</td>\n",
       "      <td>4</td>\n",
       "      <td>3.00</td>\n",
       "      <td>1960</td>\n",
       "      <td>5000</td>\n",
       "      <td>1.0</td>\n",
       "      <td>0</td>\n",
       "      <td>0</td>\n",
       "      <td>...</td>\n",
       "      <td>7</td>\n",
       "      <td>1050</td>\n",
       "      <td>910</td>\n",
       "      <td>1965</td>\n",
       "      <td>0</td>\n",
       "      <td>98136</td>\n",
       "      <td>47.5208</td>\n",
       "      <td>-122.393</td>\n",
       "      <td>1360</td>\n",
       "      <td>5000</td>\n",
       "    </tr>\n",
       "    <tr>\n",
       "      <th>4</th>\n",
       "      <td>1954400510</td>\n",
       "      <td>20150218T000000</td>\n",
       "      <td>510000.0</td>\n",
       "      <td>3</td>\n",
       "      <td>2.00</td>\n",
       "      <td>1680</td>\n",
       "      <td>8080</td>\n",
       "      <td>1.0</td>\n",
       "      <td>0</td>\n",
       "      <td>0</td>\n",
       "      <td>...</td>\n",
       "      <td>8</td>\n",
       "      <td>1680</td>\n",
       "      <td>0</td>\n",
       "      <td>1987</td>\n",
       "      <td>0</td>\n",
       "      <td>98074</td>\n",
       "      <td>47.6168</td>\n",
       "      <td>-122.045</td>\n",
       "      <td>1800</td>\n",
       "      <td>7503</td>\n",
       "    </tr>\n",
       "  </tbody>\n",
       "</table>\n",
       "<p>5 rows × 21 columns</p>\n",
       "</div>"
      ],
      "text/plain": [
       "           id             date     price  bedrooms  bathrooms  sqft_living  \\\n",
       "0  7129300520  20141013T000000  221900.0         3       1.00         1180   \n",
       "1  6414100192  20141209T000000  538000.0         3       2.25         2570   \n",
       "2  5631500400  20150225T000000  180000.0         2       1.00          770   \n",
       "3  2487200875  20141209T000000  604000.0         4       3.00         1960   \n",
       "4  1954400510  20150218T000000  510000.0         3       2.00         1680   \n",
       "\n",
       "   sqft_lot  floors  waterfront  view  ...  grade  sqft_above  sqft_basement  \\\n",
       "0      5650     1.0           0     0  ...      7        1180              0   \n",
       "1      7242     2.0           0     0  ...      7        2170            400   \n",
       "2     10000     1.0           0     0  ...      6         770              0   \n",
       "3      5000     1.0           0     0  ...      7        1050            910   \n",
       "4      8080     1.0           0     0  ...      8        1680              0   \n",
       "\n",
       "   yr_built  yr_renovated  zipcode      lat     long  sqft_living15  \\\n",
       "0      1955             0    98178  47.5112 -122.257           1340   \n",
       "1      1951          1991    98125  47.7210 -122.319           1690   \n",
       "2      1933             0    98028  47.7379 -122.233           2720   \n",
       "3      1965             0    98136  47.5208 -122.393           1360   \n",
       "4      1987             0    98074  47.6168 -122.045           1800   \n",
       "\n",
       "   sqft_lot15  \n",
       "0        5650  \n",
       "1        7639  \n",
       "2        8062  \n",
       "3        5000  \n",
       "4        7503  \n",
       "\n",
       "[5 rows x 21 columns]"
      ]
     },
     "execution_count": 2,
     "metadata": {},
     "output_type": "execute_result"
    }
   ],
   "source": [
    "sales_raw = pd.read_csv('./data/kc_house_data.csv')\n",
    "sales_raw.head()"
   ]
  },
  {
   "cell_type": "code",
   "execution_count": 3,
   "metadata": {},
   "outputs": [
    {
     "name": "stdout",
     "output_type": "stream",
     "text": [
      "<class 'pandas.core.frame.DataFrame'>\n",
      "RangeIndex: 21613 entries, 0 to 21612\n",
      "Data columns (total 21 columns):\n",
      " #   Column         Non-Null Count  Dtype  \n",
      "---  ------         --------------  -----  \n",
      " 0   id             21613 non-null  int64  \n",
      " 1   date           21613 non-null  object \n",
      " 2   price          21613 non-null  float64\n",
      " 3   bedrooms       21613 non-null  int64  \n",
      " 4   bathrooms      21613 non-null  float64\n",
      " 5   sqft_living    21613 non-null  int64  \n",
      " 6   sqft_lot       21613 non-null  int64  \n",
      " 7   floors         21613 non-null  float64\n",
      " 8   waterfront     21613 non-null  int64  \n",
      " 9   view           21613 non-null  int64  \n",
      " 10  condition      21613 non-null  int64  \n",
      " 11  grade          21613 non-null  int64  \n",
      " 12  sqft_above     21613 non-null  int64  \n",
      " 13  sqft_basement  21613 non-null  int64  \n",
      " 14  yr_built       21613 non-null  int64  \n",
      " 15  yr_renovated   21613 non-null  int64  \n",
      " 16  zipcode        21613 non-null  int64  \n",
      " 17  lat            21613 non-null  float64\n",
      " 18  long           21613 non-null  float64\n",
      " 19  sqft_living15  21613 non-null  int64  \n",
      " 20  sqft_lot15     21613 non-null  int64  \n",
      "dtypes: float64(5), int64(15), object(1)\n",
      "memory usage: 3.5+ MB\n"
     ]
    }
   ],
   "source": [
    "sales_raw.info()"
   ]
  },
  {
   "cell_type": "code",
   "execution_count": 6,
   "metadata": {},
   "outputs": [
    {
     "data": {
      "image/png": "[encoded data removed]",
      "text/plain": [
       "<Figure size 1440x1440 with 20 Axes>"
      ]
     },
     "metadata": {
      "needs_background": "light"
     },
     "output_type": "display_data"
    }
   ],
   "source": [
    "sales_raw.hist(bins=50, figsize=(20,20));"
   ]
  },
  {
   "cell_type": "code",
   "execution_count": 17,
   "metadata": {},
   "outputs": [],
   "source": [
    "X, y = sales_raw.drop('price', axis=1), sales_raw['price']\n",
    "\n",
    "X_train, X_test, y_train, y_test = train_test_split(X, y, test_size=0.2, random_state=13)\n"
   ]
  },
  {
   "cell_type": "code",
   "execution_count": 19,
   "metadata": {},
   "outputs": [
    {
     "data": {
      "text/html": [
       "<div>\n",
       "<style scoped>\n",
       "    .dataframe tbody tr th:only-of-type {\n",
       "        vertical-align: middle;\n",
       "    }\n",
       "\n",
       "    .dataframe tbody tr th {\n",
       "        vertical-align: top;\n",
       "    }\n",
       "\n",
       "    .dataframe thead th {\n",
       "        text-align: right;\n",
       "    }\n",
       "</style>\n",
       "<table border=\"1\" class=\"dataframe\">\n",
       "  <thead>\n",
       "    <tr style=\"text-align: right;\">\n",
       "      <th></th>\n",
       "      <th>id</th>\n",
       "      <th>date</th>\n",
       "      <th>bedrooms</th>\n",
       "      <th>bathrooms</th>\n",
       "      <th>sqft_living</th>\n",
       "      <th>sqft_lot</th>\n",
       "      <th>floors</th>\n",
       "      <th>waterfront</th>\n",
       "      <th>view</th>\n",
       "      <th>condition</th>\n",
       "      <th>grade</th>\n",
       "      <th>sqft_above</th>\n",
       "      <th>sqft_basement</th>\n",
       "      <th>yr_built</th>\n",
       "      <th>yr_renovated</th>\n",
       "      <th>zipcode</th>\n",
       "      <th>lat</th>\n",
       "      <th>long</th>\n",
       "      <th>sqft_living15</th>\n",
       "      <th>sqft_lot15</th>\n",
       "    </tr>\n",
       "  </thead>\n",
       "  <tbody>\n",
       "    <tr>\n",
       "      <th>1571</th>\n",
       "      <td>934300140</td>\n",
       "      <td>20150323T000000</td>\n",
       "      <td>4</td>\n",
       "      <td>1.50</td>\n",
       "      <td>2000</td>\n",
       "      <td>6778</td>\n",
       "      <td>1.0</td>\n",
       "      <td>0</td>\n",
       "      <td>0</td>\n",
       "      <td>4</td>\n",
       "      <td>7</td>\n",
       "      <td>1170</td>\n",
       "      <td>830</td>\n",
       "      <td>1962</td>\n",
       "      <td>0</td>\n",
       "      <td>98198</td>\n",
       "      <td>47.3708</td>\n",
       "      <td>-122.311</td>\n",
       "      <td>1940</td>\n",
       "      <td>7531</td>\n",
       "    </tr>\n",
       "    <tr>\n",
       "      <th>16330</th>\n",
       "      <td>9238430680</td>\n",
       "      <td>20140521T000000</td>\n",
       "      <td>4</td>\n",
       "      <td>2.50</td>\n",
       "      <td>2630</td>\n",
       "      <td>48706</td>\n",
       "      <td>2.0</td>\n",
       "      <td>0</td>\n",
       "      <td>0</td>\n",
       "      <td>3</td>\n",
       "      <td>8</td>\n",
       "      <td>2630</td>\n",
       "      <td>0</td>\n",
       "      <td>1986</td>\n",
       "      <td>0</td>\n",
       "      <td>98072</td>\n",
       "      <td>47.7750</td>\n",
       "      <td>-122.125</td>\n",
       "      <td>2680</td>\n",
       "      <td>48706</td>\n",
       "    </tr>\n",
       "    <tr>\n",
       "      <th>12786</th>\n",
       "      <td>191100870</td>\n",
       "      <td>20140805T000000</td>\n",
       "      <td>4</td>\n",
       "      <td>2.50</td>\n",
       "      <td>2620</td>\n",
       "      <td>9525</td>\n",
       "      <td>2.5</td>\n",
       "      <td>0</td>\n",
       "      <td>0</td>\n",
       "      <td>4</td>\n",
       "      <td>9</td>\n",
       "      <td>2620</td>\n",
       "      <td>0</td>\n",
       "      <td>1974</td>\n",
       "      <td>0</td>\n",
       "      <td>98040</td>\n",
       "      <td>47.5631</td>\n",
       "      <td>-122.219</td>\n",
       "      <td>2580</td>\n",
       "      <td>9525</td>\n",
       "    </tr>\n",
       "    <tr>\n",
       "      <th>12524</th>\n",
       "      <td>2025701530</td>\n",
       "      <td>20140826T000000</td>\n",
       "      <td>3</td>\n",
       "      <td>2.50</td>\n",
       "      <td>1610</td>\n",
       "      <td>6000</td>\n",
       "      <td>2.0</td>\n",
       "      <td>0</td>\n",
       "      <td>0</td>\n",
       "      <td>4</td>\n",
       "      <td>7</td>\n",
       "      <td>1610</td>\n",
       "      <td>0</td>\n",
       "      <td>1993</td>\n",
       "      <td>0</td>\n",
       "      <td>98038</td>\n",
       "      <td>47.3490</td>\n",
       "      <td>-122.036</td>\n",
       "      <td>1570</td>\n",
       "      <td>6000</td>\n",
       "    </tr>\n",
       "    <tr>\n",
       "      <th>16179</th>\n",
       "      <td>4059400585</td>\n",
       "      <td>20140624T000000</td>\n",
       "      <td>3</td>\n",
       "      <td>1.00</td>\n",
       "      <td>880</td>\n",
       "      <td>18205</td>\n",
       "      <td>1.0</td>\n",
       "      <td>0</td>\n",
       "      <td>0</td>\n",
       "      <td>4</td>\n",
       "      <td>6</td>\n",
       "      <td>880</td>\n",
       "      <td>0</td>\n",
       "      <td>1945</td>\n",
       "      <td>0</td>\n",
       "      <td>98178</td>\n",
       "      <td>47.5013</td>\n",
       "      <td>-122.244</td>\n",
       "      <td>1110</td>\n",
       "      <td>16115</td>\n",
       "    </tr>\n",
       "    <tr>\n",
       "      <th>...</th>\n",
       "      <td>...</td>\n",
       "      <td>...</td>\n",
       "      <td>...</td>\n",
       "      <td>...</td>\n",
       "      <td>...</td>\n",
       "      <td>...</td>\n",
       "      <td>...</td>\n",
       "      <td>...</td>\n",
       "      <td>...</td>\n",
       "      <td>...</td>\n",
       "      <td>...</td>\n",
       "      <td>...</td>\n",
       "      <td>...</td>\n",
       "      <td>...</td>\n",
       "      <td>...</td>\n",
       "      <td>...</td>\n",
       "      <td>...</td>\n",
       "      <td>...</td>\n",
       "      <td>...</td>\n",
       "      <td>...</td>\n",
       "    </tr>\n",
       "    <tr>\n",
       "      <th>153</th>\n",
       "      <td>7855801670</td>\n",
       "      <td>20150401T000000</td>\n",
       "      <td>4</td>\n",
       "      <td>3.25</td>\n",
       "      <td>5180</td>\n",
       "      <td>19850</td>\n",
       "      <td>2.0</td>\n",
       "      <td>0</td>\n",
       "      <td>3</td>\n",
       "      <td>3</td>\n",
       "      <td>12</td>\n",
       "      <td>3540</td>\n",
       "      <td>1640</td>\n",
       "      <td>2006</td>\n",
       "      <td>0</td>\n",
       "      <td>98006</td>\n",
       "      <td>47.5620</td>\n",
       "      <td>-122.162</td>\n",
       "      <td>3160</td>\n",
       "      <td>9750</td>\n",
       "    </tr>\n",
       "    <tr>\n",
       "      <th>866</th>\n",
       "      <td>3955900830</td>\n",
       "      <td>20150427T000000</td>\n",
       "      <td>3</td>\n",
       "      <td>2.50</td>\n",
       "      <td>3460</td>\n",
       "      <td>6590</td>\n",
       "      <td>2.0</td>\n",
       "      <td>0</td>\n",
       "      <td>0</td>\n",
       "      <td>3</td>\n",
       "      <td>7</td>\n",
       "      <td>3460</td>\n",
       "      <td>0</td>\n",
       "      <td>2001</td>\n",
       "      <td>0</td>\n",
       "      <td>98056</td>\n",
       "      <td>47.4802</td>\n",
       "      <td>-122.188</td>\n",
       "      <td>2490</td>\n",
       "      <td>6312</td>\n",
       "    </tr>\n",
       "    <tr>\n",
       "      <th>74</th>\n",
       "      <td>3444100400</td>\n",
       "      <td>20150316T000000</td>\n",
       "      <td>3</td>\n",
       "      <td>1.75</td>\n",
       "      <td>1790</td>\n",
       "      <td>50529</td>\n",
       "      <td>1.0</td>\n",
       "      <td>0</td>\n",
       "      <td>0</td>\n",
       "      <td>5</td>\n",
       "      <td>7</td>\n",
       "      <td>1090</td>\n",
       "      <td>700</td>\n",
       "      <td>1965</td>\n",
       "      <td>0</td>\n",
       "      <td>98042</td>\n",
       "      <td>47.3511</td>\n",
       "      <td>-122.073</td>\n",
       "      <td>1940</td>\n",
       "      <td>50529</td>\n",
       "    </tr>\n",
       "    <tr>\n",
       "      <th>14512</th>\n",
       "      <td>6933600540</td>\n",
       "      <td>20140820T000000</td>\n",
       "      <td>2</td>\n",
       "      <td>1.00</td>\n",
       "      <td>820</td>\n",
       "      <td>5040</td>\n",
       "      <td>1.0</td>\n",
       "      <td>0</td>\n",
       "      <td>0</td>\n",
       "      <td>3</td>\n",
       "      <td>7</td>\n",
       "      <td>820</td>\n",
       "      <td>0</td>\n",
       "      <td>1953</td>\n",
       "      <td>0</td>\n",
       "      <td>98199</td>\n",
       "      <td>47.6498</td>\n",
       "      <td>-122.388</td>\n",
       "      <td>1730</td>\n",
       "      <td>5760</td>\n",
       "    </tr>\n",
       "    <tr>\n",
       "      <th>338</th>\n",
       "      <td>405100295</td>\n",
       "      <td>20140826T000000</td>\n",
       "      <td>3</td>\n",
       "      <td>1.75</td>\n",
       "      <td>1420</td>\n",
       "      <td>8250</td>\n",
       "      <td>1.0</td>\n",
       "      <td>0</td>\n",
       "      <td>0</td>\n",
       "      <td>3</td>\n",
       "      <td>7</td>\n",
       "      <td>1420</td>\n",
       "      <td>0</td>\n",
       "      <td>1954</td>\n",
       "      <td>0</td>\n",
       "      <td>98133</td>\n",
       "      <td>47.7535</td>\n",
       "      <td>-122.354</td>\n",
       "      <td>1740</td>\n",
       "      <td>8000</td>\n",
       "    </tr>\n",
       "  </tbody>\n",
       "</table>\n",
       "<p>17290 rows × 20 columns</p>\n",
       "</div>"
      ],
      "text/plain": [
       "               id             date  bedrooms  bathrooms  sqft_living  \\\n",
       "1571    934300140  20150323T000000         4       1.50         2000   \n",
       "16330  9238430680  20140521T000000         4       2.50         2630   \n",
       "12786   191100870  20140805T000000         4       2.50         2620   \n",
       "12524  2025701530  20140826T000000         3       2.50         1610   \n",
       "16179  4059400585  20140624T000000         3       1.00          880   \n",
       "...           ...              ...       ...        ...          ...   \n",
       "153    7855801670  20150401T000000         4       3.25         5180   \n",
       "866    3955900830  20150427T000000         3       2.50         3460   \n",
       "74     3444100400  20150316T000000         3       1.75         1790   \n",
       "14512  6933600540  20140820T000000         2       1.00          820   \n",
       "338     405100295  20140826T000000         3       1.75         1420   \n",
       "\n",
       "       sqft_lot  floors  waterfront  view  condition  grade  sqft_above  \\\n",
       "1571       6778     1.0           0     0          4      7        1170   \n",
       "16330     48706     2.0           0     0          3      8        2630   \n",
       "12786      9525     2.5           0     0          4      9        2620   \n",
       "12524      6000     2.0           0     0          4      7        1610   \n",
       "16179     18205     1.0           0     0          4      6         880   \n",
       "...         ...     ...         ...   ...        ...    ...         ...   \n",
       "153       19850     2.0           0     3          3     12        3540   \n",
       "866        6590     2.0           0     0          3      7        3460   \n",
       "74        50529     1.0           0     0          5      7        1090   \n",
       "14512      5040     1.0           0     0          3      7         820   \n",
       "338        8250     1.0           0     0          3      7        1420   \n",
       "\n",
       "       sqft_basement  yr_built  yr_renovated  zipcode      lat     long  \\\n",
       "1571             830      1962             0    98198  47.3708 -122.311   \n",
       "16330              0      1986             0    98072  47.7750 -122.125   \n",
       "12786              0      1974             0    98040  47.5631 -122.219   \n",
       "12524              0      1993             0    98038  47.3490 -122.036   \n",
       "16179              0      1945             0    98178  47.5013 -122.244   \n",
       "...              ...       ...           ...      ...      ...      ...   \n",
       "153             1640      2006             0    98006  47.5620 -122.162   \n",
       "866                0      2001             0    98056  47.4802 -122.188   \n",
       "74               700      1965             0    98042  47.3511 -122.073   \n",
       "14512              0      1953             0    98199  47.6498 -122.388   \n",
       "338                0      1954             0    98133  47.7535 -122.354   \n",
       "\n",
       "       sqft_living15  sqft_lot15  \n",
       "1571            1940        7531  \n",
       "16330           2680       48706  \n",
       "12786           2580        9525  \n",
       "12524           1570        6000  \n",
       "16179           1110       16115  \n",
       "...              ...         ...  \n",
       "153             3160        9750  \n",
       "866             2490        6312  \n",
       "74              1940       50529  \n",
       "14512           1730        5760  \n",
       "338             1740        8000  \n",
       "\n",
       "[17290 rows x 20 columns]"
      ]
     },
     "execution_count": 19,
     "metadata": {},
     "output_type": "execute_result"
    }
   ],
   "source": [
    "X_train"
   ]
  },
  {
   "cell_type": "code",
   "execution_count": 20,
   "metadata": {},
   "outputs": [
    {
     "data": {
      "text/plain": [
       "price            1.000000\n",
       "sqft_living      0.702035\n",
       "grade            0.667434\n",
       "sqft_above       0.605567\n",
       "sqft_living15    0.585379\n",
       "bathrooms        0.525138\n",
       "view             0.397293\n",
       "sqft_basement    0.323816\n",
       "bedrooms         0.308350\n",
       "lat              0.307003\n",
       "waterfront       0.266369\n",
       "floors           0.256794\n",
       "yr_renovated     0.126434\n",
       "sqft_lot         0.089661\n",
       "sqft_lot15       0.082447\n",
       "yr_built         0.054012\n",
       "condition        0.036362\n",
       "long             0.021626\n",
       "id              -0.016762\n",
       "zipcode         -0.053203\n",
       "Name: price, dtype: float64"
      ]
     },
     "execution_count": 20,
     "metadata": {},
     "output_type": "execute_result"
    }
   ],
   "source": [
    "correlations = sales_raw.corr()\n",
    "correlations['price'].sort_values(ascending=False)"
   ]
  },
  {
   "cell_type": "code",
   "execution_count": 23,
   "metadata": {},
   "outputs": [
    {
     "data": {
      "text/plain": [
       "Index(['id', 'date', 'bedrooms', 'bathrooms', 'sqft_living', 'sqft_lot',\n",
       "       'floors', 'waterfront', 'view', 'condition', 'grade', 'sqft_above',\n",
       "       'sqft_basement', 'yr_built', 'yr_renovated', 'zipcode', 'lat', 'long',\n",
       "       'sqft_living15', 'sqft_lot15'],\n",
       "      dtype='object')"
      ]
     },
     "execution_count": 23,
     "metadata": {},
     "output_type": "execute_result"
    }
   ],
   "source": [
    "X_train.columns"
   ]
  },
  {
   "cell_type": "code",
   "execution_count": 30,
   "metadata": {},
   "outputs": [],
   "source": [
    "def select_test(X):\n",
    "    return X\n",
    "\n",
    "select_tester = FunctionTransformer(select_test)"
   ]
  },
  {
   "cell_type": "code",
   "execution_count": 35,
   "metadata": {},
   "outputs": [
    {
     "data": {
      "text/plain": [
       "1571     2015\n",
       "16330    2014\n",
       "12786    2014\n",
       "12524    2014\n",
       "16179    2014\n",
       "         ... \n",
       "153      2015\n",
       "866      2015\n",
       "74       2015\n",
       "14512    2014\n",
       "338      2014\n",
       "Name: date, Length: 17290, dtype: int64"
      ]
     },
     "execution_count": 35,
     "metadata": {},
     "output_type": "execute_result"
    }
   ],
   "source": [
    "def to_yr_sold(date):\n",
    "    return pd.to_datetime(date).dt.year\n",
    "\n",
    "date_transformer = FunctionTransformer(to_yr_sold)\n",
    "\n",
    "date_transformer.fit_transform(X_train['date'])"
   ]
  },
  {
   "cell_type": "code",
   "execution_count": 51,
   "metadata": {},
   "outputs": [
    {
     "data": {
      "text/plain": [
       "array([[934300140, '20150323T000000', 4, ..., 1940, 7531, 2015],\n",
       "       [9238430680, '20140521T000000', 4, ..., 2680, 48706, 2014],\n",
       "       [191100870, '20140805T000000', 4, ..., 2580, 9525, 2014],\n",
       "       ...,\n",
       "       [3444100400, '20150316T000000', 3, ..., 1940, 50529, 2015],\n",
       "       [6933600540, '20140820T000000', 2, ..., 1730, 5760, 2014],\n",
       "       [405100295, '20140826T000000', 3, ..., 1740, 8000, 2014]],\n",
       "      dtype=object)"
      ]
     },
     "execution_count": 51,
     "metadata": {},
     "output_type": "execute_result"
    }
   ],
   "source": [
    "class DateAdder(BaseEstimator, TransformerMixin):\n",
    "    def __init__(self):\n",
    "        super().__init__()\n",
    "    def fit(self, X, y=None):\n",
    "        return self\n",
    "    def transform(self, X):\n",
    "        yr_sold = date_transformer.fit_transform(X['date'])\n",
    "        return np.c_[X, yr_sold]\n",
    "    \n",
    "DateAdder().fit_transform(X_train)"
   ]
  },
  {
   "cell_type": "code",
   "execution_count": 87,
   "metadata": {},
   "outputs": [],
   "source": [
    "# column indices\n",
    "bedrooms_idx, sqft_living_idx, yr_sold_idx, yr_built_idx, yr_renovated_idx = 2, 4, -1, 13, 14\n",
    "\n",
    "# add attributes, a custom sklearn transformer needs init, fit, and transform methods\n",
    "# fit_transform is created by adding TransformerMixin and BaseEstimator gives get/\n",
    "# set_params()\n",
    "class FeatureAdder(BaseEstimator, TransformerMixin):\n",
    "    def __init__(self, add_bedrooms_per_sqft = True):\n",
    "        self.add_bedrooms_per_sqft = add_bedrooms_per_sqft\n",
    "    def fit(self, X, y=None):\n",
    "        return self\n",
    "    def transform(self, X):\n",
    "        # Subtract the larger of yr_built or yr_renovated from yr_sold,\n",
    "        # if this is negative (yr_reno after yr_sold) return 0\n",
    "        effective_age_guess = X[:, yr_sold_idx] - np.maximum(X[:, yr_renovated_idx], X[:, yr_built_idx])\n",
    "        effective_age = np.maximum(effective_age_guess, 0)\n",
    "        if self.add_bedrooms_per_sqft:\n",
    "            bedrooms_per_sqft = X[:, bedrooms_idx] / X[:, sqft_living_idx]\n",
    "            return np.c_[X, effective_age, bedrooms_per_sqft]\n",
    "        else:\n",
    "            return np.c_[X, effective_age]\n",
    "        \n",
    "def drop_columns(X):\n",
    "    # drop id, date, yr_renovated, zipcode\n",
    "    return X[:,[*range(2, 14), *range(16, 21)]]\n",
    "\n"
   ]
  },
  {
   "cell_type": "code",
   "execution_count": null,
   "metadata": {},
   "outputs": [],
   "source": []
  },
  {
   "cell_type": "code",
   "execution_count": 88,
   "metadata": {},
   "outputs": [],
   "source": [
    "date_pipe = Pipeline([\n",
    "    ('yr_sold_adder', DateAdder()),\n",
    "    ('feature_adder', FeatureAdder()),\n",
    "    ('column_dropper', FunctionTransformer(drop_columns)),\n",
    "    \n",
    "])\n",
    "\n",
    "# preprocess_pipe = ColumnTransformer([\n",
    "#     ('date_fixer', date_pipe, make_column_selector(pattern='date'))\n",
    "# ])\n",
    "\n",
    "test_res = date_pipe.fit_transform(X_train)"
   ]
  },
  {
   "cell_type": "code",
   "execution_count": 89,
   "metadata": {},
   "outputs": [
    {
     "data": {
      "text/plain": [
       "id                     934300140\n",
       "date             20150323T000000\n",
       "bedrooms                       4\n",
       "bathrooms                    1.5\n",
       "sqft_living                 2000\n",
       "sqft_lot                    6778\n",
       "floors                         1\n",
       "waterfront                     0\n",
       "view                           0\n",
       "condition                      4\n",
       "grade                          7\n",
       "sqft_above                  1170\n",
       "sqft_basement                830\n",
       "yr_built                    1962\n",
       "yr_renovated                   0\n",
       "zipcode                    98198\n",
       "lat                      47.3708\n",
       "long                    -122.311\n",
       "sqft_living15               1940\n",
       "sqft_lot15                  7531\n",
       "Name: 1571, dtype: object"
      ]
     },
     "execution_count": 89,
     "metadata": {},
     "output_type": "execute_result"
    }
   ],
   "source": [
    "X_train.iloc[0, :]"
   ]
  },
  {
   "cell_type": "code",
   "execution_count": 92,
   "metadata": {},
   "outputs": [
    {
     "data": {
      "text/plain": [
       "array([4, 1.5, 2000, 6778, 1.0, 0, 0, 4, 7, 1170, 830, 1962, 47.3708,\n",
       "       -122.311, 1940, 7531, 2015], dtype=object)"
      ]
     },
     "execution_count": 92,
     "metadata": {},
     "output_type": "execute_result"
    }
   ],
   "source": [
    "test_res[0]"
   ]
  },
  {
   "cell_type": "code",
   "execution_count": 113,
   "metadata": {},
   "outputs": [
    {
     "data": {
      "text/plain": [
       "array([0.6730471423952884, -0.8007714664832806, -0.08588714216589924,\n",
       "       -0.20073274134337576, -0.9143860398782998, -0.3010692883979992,\n",
       "       0.9151081242170503, -0.5565317101913227, -0.7440722110356905,\n",
       "       1.22528542266535, -0.3080052274212016, -1.3629475554112465,\n",
       "       -0.6931190338110651, -0.06540857614666841, -0.1918527997412983,\n",
       "       1.4410109144332455, 0], dtype=object)"
      ]
     },
     "execution_count": 113,
     "metadata": {},
     "output_type": "execute_result"
    }
   ],
   "source": [
    "# all except waterfront for now\n",
    "num_indices = [x for x in range(0, 17) if x != 5]\n",
    "\n",
    "\n",
    "num_pipeline = Pipeline([\n",
    "    ('imputer', SimpleImputer(strategy='median')),\n",
    "    ('scaler', StandardScaler())\n",
    "])\n",
    "\n",
    "\n",
    "\n",
    "ct = ColumnTransformer([\n",
    "    ('num', num_pipeline, num_indices),\n",
    "    ], remainder='passthrough')\n",
    "\n",
    "prepared = ct.fit_transform(test_res)\n",
    "prepared[0]"
   ]
  },
  {
   "cell_type": "code",
   "execution_count": 114,
   "metadata": {},
   "outputs": [
    {
     "data": {
      "text/plain": [
       "LinearRegression()"
      ]
     },
     "execution_count": 114,
     "metadata": {},
     "output_type": "execute_result"
    }
   ],
   "source": [
    "lin_reg = LinearRegression()\n",
    "lin_reg.fit(prepared, y_train)"
   ]
  },
  {
   "cell_type": "code",
   "execution_count": 115,
   "metadata": {},
   "outputs": [
    {
     "data": {
      "text/plain": [
       "array([342605.36250319, 722162.47627153, 779778.19197691, ...,\n",
       "       324377.67766248, 330434.60033028, 490390.3012373 ])"
      ]
     },
     "execution_count": 115,
     "metadata": {},
     "output_type": "execute_result"
    }
   ],
   "source": [
    "lin_predictions = lin_reg.predict(prepared)\n",
    "lin_predictions"
   ]
  },
  {
   "cell_type": "code",
   "execution_count": 117,
   "metadata": {},
   "outputs": [
    {
     "data": {
      "text/plain": [
       "204535.54518147133"
      ]
     },
     "execution_count": 117,
     "metadata": {},
     "output_type": "execute_result"
    }
   ],
   "source": [
    "lin_rmse = mean_squared_error(y_train, lin_predictions, squared=False)\n",
    "lin_rmse"
   ]
  },
  {
   "cell_type": "code",
   "execution_count": 118,
   "metadata": {},
   "outputs": [
    {
     "data": {
      "text/plain": [
       "126442.19811932159"
      ]
     },
     "execution_count": 118,
     "metadata": {},
     "output_type": "execute_result"
    }
   ],
   "source": [
    "lin_mae = mean_absolute_error(y_train, lin_predictions)\n",
    "lin_mae"
   ]
  },
  {
   "cell_type": "code",
   "execution_count": 119,
   "metadata": {},
   "outputs": [
    {
     "data": {
      "text/plain": [
       "DecisionTreeRegressor(random_state=13)"
      ]
     },
     "execution_count": 119,
     "metadata": {},
     "output_type": "execute_result"
    }
   ],
   "source": [
    "tree_reg = DecisionTreeRegressor(random_state=13)\n",
    "tree_reg.fit(prepared, y_train)"
   ]
  },
  {
   "cell_type": "code",
   "execution_count": 120,
   "metadata": {},
   "outputs": [
    {
     "data": {
      "text/plain": [
       "array([284950., 625000., 838400., ..., 349000., 508000., 265000.])"
      ]
     },
     "execution_count": 120,
     "metadata": {},
     "output_type": "execute_result"
    }
   ],
   "source": [
    "tree_predictions = tree_reg.predict(prepared)\n",
    "tree_predictions"
   ]
  },
  {
   "cell_type": "code",
   "execution_count": 121,
   "metadata": {},
   "outputs": [
    {
     "data": {
      "text/plain": [
       "3444.313096687119"
      ]
     },
     "execution_count": 121,
     "metadata": {},
     "output_type": "execute_result"
    }
   ],
   "source": [
    "tree_rmse = mean_squared_error(y_train, tree_predictions, squared=False)\n",
    "tree_rmse"
   ]
  },
  {
   "cell_type": "code",
   "execution_count": 122,
   "metadata": {},
   "outputs": [
    {
     "data": {
      "text/plain": [
       "144.40306535569692"
      ]
     },
     "execution_count": 122,
     "metadata": {},
     "output_type": "execute_result"
    }
   ],
   "source": [
    "tree_mae = mean_absolute_error(y_train, tree_predictions)\n",
    "tree_mae"
   ]
  },
  {
   "cell_type": "code",
   "execution_count": 127,
   "metadata": {},
   "outputs": [
    {
     "name": "stdout",
     "output_type": "stream",
     "text": [
      "[104574.85020243  97448.21399653 102265.49392713 102256.65760555\n",
      " 107695.72498554  98280.80913823  97342.21659919 100058.18565645\n",
      " 102235.64314633 104162.54135338]\n",
      "101632.03366107575\n",
      "3203.160049087805\n"
     ]
    }
   ],
   "source": [
    "neg_tree_scores = cross_val_score(tree_reg, prepared, y_train,\n",
    "                        scoring='neg_mean_absolute_error', cv=10)\n",
    "tree_scores = -neg_tree_scores\n",
    "print(tree_scores)\n",
    "print(tree_scores.mean())\n",
    "print(tree_scores.std())\n"
   ]
  },
  {
   "cell_type": "code",
   "execution_count": 128,
   "metadata": {},
   "outputs": [
    {
     "name": "stdout",
     "output_type": "stream",
     "text": [
      "[134096.44149524 128730.44098589 126492.44674793 126981.6983099\n",
      " 126752.39106044 123727.73717681 122509.69503439 128638.188556\n",
      " 127176.73387114 121609.02517024]\n",
      "126671.47984079653\n",
      "3394.7305825794383\n"
     ]
    }
   ],
   "source": [
    "neg_lin_scores = cross_val_score(lin_reg, prepared, y_train,\n",
    "                        scoring='neg_mean_absolute_error', cv=10)\n",
    "lin_scores = -neg_lin_scores\n",
    "print(lin_scores)\n",
    "print(lin_scores.mean())\n",
    "print(lin_scores.std())"
   ]
  },
  {
   "cell_type": "code",
   "execution_count": 130,
   "metadata": {},
   "outputs": [
    {
     "data": {
      "text/plain": [
       "array([284189.5 , 616350.61, 871325.4 , ..., 354775.66, 501897.5 ,\n",
       "       297418.  ])"
      ]
     },
     "execution_count": 130,
     "metadata": {},
     "output_type": "execute_result"
    }
   ],
   "source": [
    "forest_reg = RandomForestRegressor(random_state=13)\n",
    "forest_reg.fit(prepared, y_train)\n",
    "forest_predictions = forest_reg.predict(prepared)\n",
    "forest_predictions"
   ]
  },
  {
   "cell_type": "code",
   "execution_count": 131,
   "metadata": {},
   "outputs": [
    {
     "name": "stdout",
     "output_type": "stream",
     "text": [
      "[74229.88479085 66882.48373447 71690.09804463 70135.44011116\n",
      " 72357.7717413  67436.26301424 66022.3871269  70524.62898755\n",
      " 69563.01899598 71152.84802294]\n",
      "69999.4824570024\n",
      "2454.263461332978\n"
     ]
    }
   ],
   "source": [
    "neg_forest_scores = cross_val_score(forest_reg, prepared, y_train,\n",
    "                               scoring='neg_mean_absolute_error', cv=10)\n",
    "\n",
    "forest_scores = -neg_forest_scores\n",
    "print(forest_scores)\n",
    "print(forest_scores.mean())\n",
    "print(forest_scores.std())"
   ]
  },
  {
   "cell_type": "markdown",
   "metadata": {},
   "source": [
    "### Testing A Quick Hunch: Large Errors are Skewing the Overall Results\n",
    "(This looks to be the case, as the median absolute errors are much smaller than the mean absolute errors, and the variance in these scores is also much smaller)"
   ]
  },
  {
   "cell_type": "code",
   "execution_count": 132,
   "metadata": {},
   "outputs": [
    {
     "name": "stdout",
     "output_type": "stream",
     "text": [
      "[39803.5  36768.01 39536.09 38963.2  39442.07 40027.41 39114.91 39224.55\n",
      " 39872.   37862.7 ]\n",
      "39061.444\n",
      "961.60512584116\n"
     ]
    }
   ],
   "source": [
    "neg_forest_scores = cross_val_score(forest_reg, prepared, y_train,\n",
    "                               scoring='neg_median_absolute_error', cv=10)\n",
    "\n",
    "forest_scores = -neg_forest_scores\n",
    "print(forest_scores)\n",
    "print(forest_scores.mean())\n",
    "print(forest_scores.std())"
   ]
  },
  {
   "cell_type": "code",
   "execution_count": null,
   "metadata": {},
   "outputs": [],
   "source": []
  }
 ],
 "metadata": {
  "kernelspec": {
   "display_name": "kc-env",
   "language": "python",
   "name": "kc-env"
  },
  "language_info": {
   "codemirror_mode": {
    "name": "ipython",
    "version": 3
   },
   "file_extension": ".py",
   "mimetype": "text/x-python",
   "name": "python",
   "nbconvert_exporter": "python",
   "pygments_lexer": "ipython3",
   "version": "3.8.5"
  }
 },
 "nbformat": 4,
 "nbformat_minor": 4
}
