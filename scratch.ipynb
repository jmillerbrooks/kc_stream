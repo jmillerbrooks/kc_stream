{
 "cells": [
  {
   "cell_type": "code",
   "execution_count": 327,
   "metadata": {},
   "outputs": [],
   "source": [
    "import pandas as pd\n",
    "import matplotlib.pyplot as plt\n",
    "import numpy as np\n",
    "from sklearn.model_selection import train_test_split, cross_val_score, GridSearchCV, RandomizedSearchCV\n",
    "from sklearn.impute import SimpleImputer\n",
    "from sklearn.preprocessing import OneHotEncoder, StandardScaler, PowerTransformer, FunctionTransformer, QuantileTransformer, RobustScaler\n",
    "from sklearn.pipeline import Pipeline\n",
    "from sklearn.compose import ColumnTransformer, make_column_selector\n",
    "from sklearn.base import BaseEstimator, TransformerMixin\n",
    "from sklearn.linear_model import LinearRegression\n",
    "from sklearn.metrics import mean_squared_error, mean_absolute_error\n",
    "from sklearn.tree import DecisionTreeRegressor\n",
    "from sklearn.ensemble import RandomForestRegressor\n",
    "from sklearn.svm import SVR"
   ]
  },
  {
   "cell_type": "code",
   "execution_count": 2,
   "metadata": {},
   "outputs": [
    {
     "data": {
      "text/html": [
       "<div>\n",
       "<style scoped>\n",
       "    .dataframe tbody tr th:only-of-type {\n",
       "        vertical-align: middle;\n",
       "    }\n",
       "\n",
       "    .dataframe tbody tr th {\n",
       "        vertical-align: top;\n",
       "    }\n",
       "\n",
       "    .dataframe thead th {\n",
       "        text-align: right;\n",
       "    }\n",
       "</style>\n",
       "<table border=\"1\" class=\"dataframe\">\n",
       "  <thead>\n",
       "    <tr style=\"text-align: right;\">\n",
       "      <th></th>\n",
       "      <th>id</th>\n",
       "      <th>date</th>\n",
       "      <th>price</th>\n",
       "      <th>bedrooms</th>\n",
       "      <th>bathrooms</th>\n",
       "      <th>sqft_living</th>\n",
       "      <th>sqft_lot</th>\n",
       "      <th>floors</th>\n",
       "      <th>waterfront</th>\n",
       "      <th>view</th>\n",
       "      <th>...</th>\n",
       "      <th>grade</th>\n",
       "      <th>sqft_above</th>\n",
       "      <th>sqft_basement</th>\n",
       "      <th>yr_built</th>\n",
       "      <th>yr_renovated</th>\n",
       "      <th>zipcode</th>\n",
       "      <th>lat</th>\n",
       "      <th>long</th>\n",
       "      <th>sqft_living15</th>\n",
       "      <th>sqft_lot15</th>\n",
       "    </tr>\n",
       "  </thead>\n",
       "  <tbody>\n",
       "    <tr>\n",
       "      <th>0</th>\n",
       "      <td>7129300520</td>\n",
       "      <td>20141013T000000</td>\n",
       "      <td>221900.0</td>\n",
       "      <td>3</td>\n",
       "      <td>1.00</td>\n",
       "      <td>1180</td>\n",
       "      <td>5650</td>\n",
       "      <td>1.0</td>\n",
       "      <td>0</td>\n",
       "      <td>0</td>\n",
       "      <td>...</td>\n",
       "      <td>7</td>\n",
       "      <td>1180</td>\n",
       "      <td>0</td>\n",
       "      <td>1955</td>\n",
       "      <td>0</td>\n",
       "      <td>98178</td>\n",
       "      <td>47.5112</td>\n",
       "      <td>-122.257</td>\n",
       "      <td>1340</td>\n",
       "      <td>5650</td>\n",
       "    </tr>\n",
       "    <tr>\n",
       "      <th>1</th>\n",
       "      <td>6414100192</td>\n",
       "      <td>20141209T000000</td>\n",
       "      <td>538000.0</td>\n",
       "      <td>3</td>\n",
       "      <td>2.25</td>\n",
       "      <td>2570</td>\n",
       "      <td>7242</td>\n",
       "      <td>2.0</td>\n",
       "      <td>0</td>\n",
       "      <td>0</td>\n",
       "      <td>...</td>\n",
       "      <td>7</td>\n",
       "      <td>2170</td>\n",
       "      <td>400</td>\n",
       "      <td>1951</td>\n",
       "      <td>1991</td>\n",
       "      <td>98125</td>\n",
       "      <td>47.7210</td>\n",
       "      <td>-122.319</td>\n",
       "      <td>1690</td>\n",
       "      <td>7639</td>\n",
       "    </tr>\n",
       "    <tr>\n",
       "      <th>2</th>\n",
       "      <td>5631500400</td>\n",
       "      <td>20150225T000000</td>\n",
       "      <td>180000.0</td>\n",
       "      <td>2</td>\n",
       "      <td>1.00</td>\n",
       "      <td>770</td>\n",
       "      <td>10000</td>\n",
       "      <td>1.0</td>\n",
       "      <td>0</td>\n",
       "      <td>0</td>\n",
       "      <td>...</td>\n",
       "      <td>6</td>\n",
       "      <td>770</td>\n",
       "      <td>0</td>\n",
       "      <td>1933</td>\n",
       "      <td>0</td>\n",
       "      <td>98028</td>\n",
       "      <td>47.7379</td>\n",
       "      <td>-122.233</td>\n",
       "      <td>2720</td>\n",
       "      <td>8062</td>\n",
       "    </tr>\n",
       "    <tr>\n",
       "      <th>3</th>\n",
       "      <td>2487200875</td>\n",
       "      <td>20141209T000000</td>\n",
       "      <td>604000.0</td>\n",
       "      <td>4</td>\n",
       "      <td>3.00</td>\n",
       "      <td>1960</td>\n",
       "      <td>5000</td>\n",
       "      <td>1.0</td>\n",
       "      <td>0</td>\n",
       "      <td>0</td>\n",
       "      <td>...</td>\n",
       "      <td>7</td>\n",
       "      <td>1050</td>\n",
       "      <td>910</td>\n",
       "      <td>1965</td>\n",
       "      <td>0</td>\n",
       "      <td>98136</td>\n",
       "      <td>47.5208</td>\n",
       "      <td>-122.393</td>\n",
       "      <td>1360</td>\n",
       "      <td>5000</td>\n",
       "    </tr>\n",
       "    <tr>\n",
       "      <th>4</th>\n",
       "      <td>1954400510</td>\n",
       "      <td>20150218T000000</td>\n",
       "      <td>510000.0</td>\n",
       "      <td>3</td>\n",
       "      <td>2.00</td>\n",
       "      <td>1680</td>\n",
       "      <td>8080</td>\n",
       "      <td>1.0</td>\n",
       "      <td>0</td>\n",
       "      <td>0</td>\n",
       "      <td>...</td>\n",
       "      <td>8</td>\n",
       "      <td>1680</td>\n",
       "      <td>0</td>\n",
       "      <td>1987</td>\n",
       "      <td>0</td>\n",
       "      <td>98074</td>\n",
       "      <td>47.6168</td>\n",
       "      <td>-122.045</td>\n",
       "      <td>1800</td>\n",
       "      <td>7503</td>\n",
       "    </tr>\n",
       "  </tbody>\n",
       "</table>\n",
       "<p>5 rows × 21 columns</p>\n",
       "</div>"
      ],
      "text/plain": [
       "           id             date     price  bedrooms  bathrooms  sqft_living  \\\n",
       "0  7129300520  20141013T000000  221900.0         3       1.00         1180   \n",
       "1  6414100192  20141209T000000  538000.0         3       2.25         2570   \n",
       "2  5631500400  20150225T000000  180000.0         2       1.00          770   \n",
       "3  2487200875  20141209T000000  604000.0         4       3.00         1960   \n",
       "4  1954400510  20150218T000000  510000.0         3       2.00         1680   \n",
       "\n",
       "   sqft_lot  floors  waterfront  view  ...  grade  sqft_above  sqft_basement  \\\n",
       "0      5650     1.0           0     0  ...      7        1180              0   \n",
       "1      7242     2.0           0     0  ...      7        2170            400   \n",
       "2     10000     1.0           0     0  ...      6         770              0   \n",
       "3      5000     1.0           0     0  ...      7        1050            910   \n",
       "4      8080     1.0           0     0  ...      8        1680              0   \n",
       "\n",
       "   yr_built  yr_renovated  zipcode      lat     long  sqft_living15  \\\n",
       "0      1955             0    98178  47.5112 -122.257           1340   \n",
       "1      1951          1991    98125  47.7210 -122.319           1690   \n",
       "2      1933             0    98028  47.7379 -122.233           2720   \n",
       "3      1965             0    98136  47.5208 -122.393           1360   \n",
       "4      1987             0    98074  47.6168 -122.045           1800   \n",
       "\n",
       "   sqft_lot15  \n",
       "0        5650  \n",
       "1        7639  \n",
       "2        8062  \n",
       "3        5000  \n",
       "4        7503  \n",
       "\n",
       "[5 rows x 21 columns]"
      ]
     },
     "execution_count": 2,
     "metadata": {},
     "output_type": "execute_result"
    }
   ],
   "source": [
    "sales_raw = pd.read_csv('./data/kc_house_data.csv')\n",
    "sales_raw.head()"
   ]
  },
  {
   "cell_type": "code",
   "execution_count": 3,
   "metadata": {},
   "outputs": [
    {
     "name": "stdout",
     "output_type": "stream",
     "text": [
      "<class 'pandas.core.frame.DataFrame'>\n",
      "RangeIndex: 21613 entries, 0 to 21612\n",
      "Data columns (total 21 columns):\n",
      " #   Column         Non-Null Count  Dtype  \n",
      "---  ------         --------------  -----  \n",
      " 0   id             21613 non-null  int64  \n",
      " 1   date           21613 non-null  object \n",
      " 2   price          21613 non-null  float64\n",
      " 3   bedrooms       21613 non-null  int64  \n",
      " 4   bathrooms      21613 non-null  float64\n",
      " 5   sqft_living    21613 non-null  int64  \n",
      " 6   sqft_lot       21613 non-null  int64  \n",
      " 7   floors         21613 non-null  float64\n",
      " 8   waterfront     21613 non-null  int64  \n",
      " 9   view           21613 non-null  int64  \n",
      " 10  condition      21613 non-null  int64  \n",
      " 11  grade          21613 non-null  int64  \n",
      " 12  sqft_above     21613 non-null  int64  \n",
      " 13  sqft_basement  21613 non-null  int64  \n",
      " 14  yr_built       21613 non-null  int64  \n",
      " 15  yr_renovated   21613 non-null  int64  \n",
      " 16  zipcode        21613 non-null  int64  \n",
      " 17  lat            21613 non-null  float64\n",
      " 18  long           21613 non-null  float64\n",
      " 19  sqft_living15  21613 non-null  int64  \n",
      " 20  sqft_lot15     21613 non-null  int64  \n",
      "dtypes: float64(5), int64(15), object(1)\n",
      "memory usage: 3.5+ MB\n"
     ]
    }
   ],
   "source": [
    "sales_raw.info()"
   ]
  },
  {
   "cell_type": "code",
   "execution_count": 6,
   "metadata": {},
   "outputs": [
    {
     "data": {
      "image/png": "[encoded data removed]",
      "text/plain": [
       "<Figure size 1440x1440 with 20 Axes>"
      ]
     },
     "metadata": {
      "needs_background": "light"
     },
     "output_type": "display_data"
    }
   ],
   "source": [
    "sales_raw.hist(bins=50, figsize=(20,20));"
   ]
  },
  {
   "cell_type": "code",
   "execution_count": 17,
   "metadata": {},
   "outputs": [],
   "source": [
    "X, y = sales_raw.drop('price', axis=1), sales_raw['price']\n",
    "\n",
    "X_train, X_test, y_train, y_test = train_test_split(X, y, test_size=0.2, random_state=13)\n"
   ]
  },
  {
   "cell_type": "code",
   "execution_count": 19,
   "metadata": {},
   "outputs": [
    {
     "data": {
      "text/html": [
       "<div>\n",
       "<style scoped>\n",
       "    .dataframe tbody tr th:only-of-type {\n",
       "        vertical-align: middle;\n",
       "    }\n",
       "\n",
       "    .dataframe tbody tr th {\n",
       "        vertical-align: top;\n",
       "    }\n",
       "\n",
       "    .dataframe thead th {\n",
       "        text-align: right;\n",
       "    }\n",
       "</style>\n",
       "<table border=\"1\" class=\"dataframe\">\n",
       "  <thead>\n",
       "    <tr style=\"text-align: right;\">\n",
       "      <th></th>\n",
       "      <th>id</th>\n",
       "      <th>date</th>\n",
       "      <th>bedrooms</th>\n",
       "      <th>bathrooms</th>\n",
       "      <th>sqft_living</th>\n",
       "      <th>sqft_lot</th>\n",
       "      <th>floors</th>\n",
       "      <th>waterfront</th>\n",
       "      <th>view</th>\n",
       "      <th>condition</th>\n",
       "      <th>grade</th>\n",
       "      <th>sqft_above</th>\n",
       "      <th>sqft_basement</th>\n",
       "      <th>yr_built</th>\n",
       "      <th>yr_renovated</th>\n",
       "      <th>zipcode</th>\n",
       "      <th>lat</th>\n",
       "      <th>long</th>\n",
       "      <th>sqft_living15</th>\n",
       "      <th>sqft_lot15</th>\n",
       "    </tr>\n",
       "  </thead>\n",
       "  <tbody>\n",
       "    <tr>\n",
       "      <th>1571</th>\n",
       "      <td>934300140</td>\n",
       "      <td>20150323T000000</td>\n",
       "      <td>4</td>\n",
       "      <td>1.50</td>\n",
       "      <td>2000</td>\n",
       "      <td>6778</td>\n",
       "      <td>1.0</td>\n",
       "      <td>0</td>\n",
       "      <td>0</td>\n",
       "      <td>4</td>\n",
       "      <td>7</td>\n",
       "      <td>1170</td>\n",
       "      <td>830</td>\n",
       "      <td>1962</td>\n",
       "      <td>0</td>\n",
       "      <td>98198</td>\n",
       "      <td>47.3708</td>\n",
       "      <td>-122.311</td>\n",
       "      <td>1940</td>\n",
       "      <td>7531</td>\n",
       "    </tr>\n",
       "    <tr>\n",
       "      <th>16330</th>\n",
       "      <td>9238430680</td>\n",
       "      <td>20140521T000000</td>\n",
       "      <td>4</td>\n",
       "      <td>2.50</td>\n",
       "      <td>2630</td>\n",
       "      <td>48706</td>\n",
       "      <td>2.0</td>\n",
       "      <td>0</td>\n",
       "      <td>0</td>\n",
       "      <td>3</td>\n",
       "      <td>8</td>\n",
       "      <td>2630</td>\n",
       "      <td>0</td>\n",
       "      <td>1986</td>\n",
       "      <td>0</td>\n",
       "      <td>98072</td>\n",
       "      <td>47.7750</td>\n",
       "      <td>-122.125</td>\n",
       "      <td>2680</td>\n",
       "      <td>48706</td>\n",
       "    </tr>\n",
       "    <tr>\n",
       "      <th>12786</th>\n",
       "      <td>191100870</td>\n",
       "      <td>20140805T000000</td>\n",
       "      <td>4</td>\n",
       "      <td>2.50</td>\n",
       "      <td>2620</td>\n",
       "      <td>9525</td>\n",
       "      <td>2.5</td>\n",
       "      <td>0</td>\n",
       "      <td>0</td>\n",
       "      <td>4</td>\n",
       "      <td>9</td>\n",
       "      <td>2620</td>\n",
       "      <td>0</td>\n",
       "      <td>1974</td>\n",
       "      <td>0</td>\n",
       "      <td>98040</td>\n",
       "      <td>47.5631</td>\n",
       "      <td>-122.219</td>\n",
       "      <td>2580</td>\n",
       "      <td>9525</td>\n",
       "    </tr>\n",
       "    <tr>\n",
       "      <th>12524</th>\n",
       "      <td>2025701530</td>\n",
       "      <td>20140826T000000</td>\n",
       "      <td>3</td>\n",
       "      <td>2.50</td>\n",
       "      <td>1610</td>\n",
       "      <td>6000</td>\n",
       "      <td>2.0</td>\n",
       "      <td>0</td>\n",
       "      <td>0</td>\n",
       "      <td>4</td>\n",
       "      <td>7</td>\n",
       "      <td>1610</td>\n",
       "      <td>0</td>\n",
       "      <td>1993</td>\n",
       "      <td>0</td>\n",
       "      <td>98038</td>\n",
       "      <td>47.3490</td>\n",
       "      <td>-122.036</td>\n",
       "      <td>1570</td>\n",
       "      <td>6000</td>\n",
       "    </tr>\n",
       "    <tr>\n",
       "      <th>16179</th>\n",
       "      <td>4059400585</td>\n",
       "      <td>20140624T000000</td>\n",
       "      <td>3</td>\n",
       "      <td>1.00</td>\n",
       "      <td>880</td>\n",
       "      <td>18205</td>\n",
       "      <td>1.0</td>\n",
       "      <td>0</td>\n",
       "      <td>0</td>\n",
       "      <td>4</td>\n",
       "      <td>6</td>\n",
       "      <td>880</td>\n",
       "      <td>0</td>\n",
       "      <td>1945</td>\n",
       "      <td>0</td>\n",
       "      <td>98178</td>\n",
       "      <td>47.5013</td>\n",
       "      <td>-122.244</td>\n",
       "      <td>1110</td>\n",
       "      <td>16115</td>\n",
       "    </tr>\n",
       "    <tr>\n",
       "      <th>...</th>\n",
       "      <td>...</td>\n",
       "      <td>...</td>\n",
       "      <td>...</td>\n",
       "      <td>...</td>\n",
       "      <td>...</td>\n",
       "      <td>...</td>\n",
       "      <td>...</td>\n",
       "      <td>...</td>\n",
       "      <td>...</td>\n",
       "      <td>...</td>\n",
       "      <td>...</td>\n",
       "      <td>...</td>\n",
       "      <td>...</td>\n",
       "      <td>...</td>\n",
       "      <td>...</td>\n",
       "      <td>...</td>\n",
       "      <td>...</td>\n",
       "      <td>...</td>\n",
       "      <td>...</td>\n",
       "      <td>...</td>\n",
       "    </tr>\n",
       "    <tr>\n",
       "      <th>153</th>\n",
       "      <td>7855801670</td>\n",
       "      <td>20150401T000000</td>\n",
       "      <td>4</td>\n",
       "      <td>3.25</td>\n",
       "      <td>5180</td>\n",
       "      <td>19850</td>\n",
       "      <td>2.0</td>\n",
       "      <td>0</td>\n",
       "      <td>3</td>\n",
       "      <td>3</td>\n",
       "      <td>12</td>\n",
       "      <td>3540</td>\n",
       "      <td>1640</td>\n",
       "      <td>2006</td>\n",
       "      <td>0</td>\n",
       "      <td>98006</td>\n",
       "      <td>47.5620</td>\n",
       "      <td>-122.162</td>\n",
       "      <td>3160</td>\n",
       "      <td>9750</td>\n",
       "    </tr>\n",
       "    <tr>\n",
       "      <th>866</th>\n",
       "      <td>3955900830</td>\n",
       "      <td>20150427T000000</td>\n",
       "      <td>3</td>\n",
       "      <td>2.50</td>\n",
       "      <td>3460</td>\n",
       "      <td>6590</td>\n",
       "      <td>2.0</td>\n",
       "      <td>0</td>\n",
       "      <td>0</td>\n",
       "      <td>3</td>\n",
       "      <td>7</td>\n",
       "      <td>3460</td>\n",
       "      <td>0</td>\n",
       "      <td>2001</td>\n",
       "      <td>0</td>\n",
       "      <td>98056</td>\n",
       "      <td>47.4802</td>\n",
       "      <td>-122.188</td>\n",
       "      <td>2490</td>\n",
       "      <td>6312</td>\n",
       "    </tr>\n",
       "    <tr>\n",
       "      <th>74</th>\n",
       "      <td>3444100400</td>\n",
       "      <td>20150316T000000</td>\n",
       "      <td>3</td>\n",
       "      <td>1.75</td>\n",
       "      <td>1790</td>\n",
       "      <td>50529</td>\n",
       "      <td>1.0</td>\n",
       "      <td>0</td>\n",
       "      <td>0</td>\n",
       "      <td>5</td>\n",
       "      <td>7</td>\n",
       "      <td>1090</td>\n",
       "      <td>700</td>\n",
       "      <td>1965</td>\n",
       "      <td>0</td>\n",
       "      <td>98042</td>\n",
       "      <td>47.3511</td>\n",
       "      <td>-122.073</td>\n",
       "      <td>1940</td>\n",
       "      <td>50529</td>\n",
       "    </tr>\n",
       "    <tr>\n",
       "      <th>14512</th>\n",
       "      <td>6933600540</td>\n",
       "      <td>20140820T000000</td>\n",
       "      <td>2</td>\n",
       "      <td>1.00</td>\n",
       "      <td>820</td>\n",
       "      <td>5040</td>\n",
       "      <td>1.0</td>\n",
       "      <td>0</td>\n",
       "      <td>0</td>\n",
       "      <td>3</td>\n",
       "      <td>7</td>\n",
       "      <td>820</td>\n",
       "      <td>0</td>\n",
       "      <td>1953</td>\n",
       "      <td>0</td>\n",
       "      <td>98199</td>\n",
       "      <td>47.6498</td>\n",
       "      <td>-122.388</td>\n",
       "      <td>1730</td>\n",
       "      <td>5760</td>\n",
       "    </tr>\n",
       "    <tr>\n",
       "      <th>338</th>\n",
       "      <td>405100295</td>\n",
       "      <td>20140826T000000</td>\n",
       "      <td>3</td>\n",
       "      <td>1.75</td>\n",
       "      <td>1420</td>\n",
       "      <td>8250</td>\n",
       "      <td>1.0</td>\n",
       "      <td>0</td>\n",
       "      <td>0</td>\n",
       "      <td>3</td>\n",
       "      <td>7</td>\n",
       "      <td>1420</td>\n",
       "      <td>0</td>\n",
       "      <td>1954</td>\n",
       "      <td>0</td>\n",
       "      <td>98133</td>\n",
       "      <td>47.7535</td>\n",
       "      <td>-122.354</td>\n",
       "      <td>1740</td>\n",
       "      <td>8000</td>\n",
       "    </tr>\n",
       "  </tbody>\n",
       "</table>\n",
       "<p>17290 rows × 20 columns</p>\n",
       "</div>"
      ],
      "text/plain": [
       "               id             date  bedrooms  bathrooms  sqft_living  \\\n",
       "1571    934300140  20150323T000000         4       1.50         2000   \n",
       "16330  9238430680  20140521T000000         4       2.50         2630   \n",
       "12786   191100870  20140805T000000         4       2.50         2620   \n",
       "12524  2025701530  20140826T000000         3       2.50         1610   \n",
       "16179  4059400585  20140624T000000         3       1.00          880   \n",
       "...           ...              ...       ...        ...          ...   \n",
       "153    7855801670  20150401T000000         4       3.25         5180   \n",
       "866    3955900830  20150427T000000         3       2.50         3460   \n",
       "74     3444100400  20150316T000000         3       1.75         1790   \n",
       "14512  6933600540  20140820T000000         2       1.00          820   \n",
       "338     405100295  20140826T000000         3       1.75         1420   \n",
       "\n",
       "       sqft_lot  floors  waterfront  view  condition  grade  sqft_above  \\\n",
       "1571       6778     1.0           0     0          4      7        1170   \n",
       "16330     48706     2.0           0     0          3      8        2630   \n",
       "12786      9525     2.5           0     0          4      9        2620   \n",
       "12524      6000     2.0           0     0          4      7        1610   \n",
       "16179     18205     1.0           0     0          4      6         880   \n",
       "...         ...     ...         ...   ...        ...    ...         ...   \n",
       "153       19850     2.0           0     3          3     12        3540   \n",
       "866        6590     2.0           0     0          3      7        3460   \n",
       "74        50529     1.0           0     0          5      7        1090   \n",
       "14512      5040     1.0           0     0          3      7         820   \n",
       "338        8250     1.0           0     0          3      7        1420   \n",
       "\n",
       "       sqft_basement  yr_built  yr_renovated  zipcode      lat     long  \\\n",
       "1571             830      1962             0    98198  47.3708 -122.311   \n",
       "16330              0      1986             0    98072  47.7750 -122.125   \n",
       "12786              0      1974             0    98040  47.5631 -122.219   \n",
       "12524              0      1993             0    98038  47.3490 -122.036   \n",
       "16179              0      1945             0    98178  47.5013 -122.244   \n",
       "...              ...       ...           ...      ...      ...      ...   \n",
       "153             1640      2006             0    98006  47.5620 -122.162   \n",
       "866                0      2001             0    98056  47.4802 -122.188   \n",
       "74               700      1965             0    98042  47.3511 -122.073   \n",
       "14512              0      1953             0    98199  47.6498 -122.388   \n",
       "338                0      1954             0    98133  47.7535 -122.354   \n",
       "\n",
       "       sqft_living15  sqft_lot15  \n",
       "1571            1940        7531  \n",
       "16330           2680       48706  \n",
       "12786           2580        9525  \n",
       "12524           1570        6000  \n",
       "16179           1110       16115  \n",
       "...              ...         ...  \n",
       "153             3160        9750  \n",
       "866             2490        6312  \n",
       "74              1940       50529  \n",
       "14512           1730        5760  \n",
       "338             1740        8000  \n",
       "\n",
       "[17290 rows x 20 columns]"
      ]
     },
     "execution_count": 19,
     "metadata": {},
     "output_type": "execute_result"
    }
   ],
   "source": [
    "X_train"
   ]
  },
  {
   "cell_type": "code",
   "execution_count": 20,
   "metadata": {},
   "outputs": [
    {
     "data": {
      "text/plain": [
       "price            1.000000\n",
       "sqft_living      0.702035\n",
       "grade            0.667434\n",
       "sqft_above       0.605567\n",
       "sqft_living15    0.585379\n",
       "bathrooms        0.525138\n",
       "view             0.397293\n",
       "sqft_basement    0.323816\n",
       "bedrooms         0.308350\n",
       "lat              0.307003\n",
       "waterfront       0.266369\n",
       "floors           0.256794\n",
       "yr_renovated     0.126434\n",
       "sqft_lot         0.089661\n",
       "sqft_lot15       0.082447\n",
       "yr_built         0.054012\n",
       "condition        0.036362\n",
       "long             0.021626\n",
       "id              -0.016762\n",
       "zipcode         -0.053203\n",
       "Name: price, dtype: float64"
      ]
     },
     "execution_count": 20,
     "metadata": {},
     "output_type": "execute_result"
    }
   ],
   "source": [
    "correlations = sales_raw.corr()\n",
    "correlations['price'].sort_values(ascending=False)"
   ]
  },
  {
   "cell_type": "code",
   "execution_count": 23,
   "metadata": {},
   "outputs": [
    {
     "data": {
      "text/plain": [
       "Index(['id', 'date', 'bedrooms', 'bathrooms', 'sqft_living', 'sqft_lot',\n",
       "       'floors', 'waterfront', 'view', 'condition', 'grade', 'sqft_above',\n",
       "       'sqft_basement', 'yr_built', 'yr_renovated', 'zipcode', 'lat', 'long',\n",
       "       'sqft_living15', 'sqft_lot15'],\n",
       "      dtype='object')"
      ]
     },
     "execution_count": 23,
     "metadata": {},
     "output_type": "execute_result"
    }
   ],
   "source": [
    "X_train.columns"
   ]
  },
  {
   "cell_type": "code",
   "execution_count": 216,
   "metadata": {},
   "outputs": [
    {
     "data": {
      "text/plain": [
       "Int64Index([2015, 2014, 2014, 2014, 2014, 2014, 2015, 2014, 2014, 2014,\n",
       "            ...\n",
       "            2014, 2015, 2015, 2015, 2015, 2015, 2015, 2015, 2014, 2014],\n",
       "           dtype='int64', length=17290)"
      ]
     },
     "execution_count": 216,
     "metadata": {},
     "output_type": "execute_result"
    }
   ],
   "source": [
    "def to_yr_sold(date):\n",
    "    return pd.to_datetime(date).year\n",
    "\n",
    "date_transformer = FunctionTransformer(to_yr_sold)\n",
    "\n",
    "date_transformer.fit_transform(X_train['date'].values)"
   ]
  },
  {
   "cell_type": "code",
   "execution_count": 218,
   "metadata": {},
   "outputs": [
    {
     "data": {
      "text/plain": [
       "{'accept_sparse': False,\n",
       " 'check_inverse': True,\n",
       " 'func': <function __main__.to_yr_sold(date)>,\n",
       " 'inv_kw_args': None,\n",
       " 'inverse_func': None,\n",
       " 'kw_args': None,\n",
       " 'validate': False}"
      ]
     },
     "execution_count": 218,
     "metadata": {},
     "output_type": "execute_result"
    }
   ],
   "source": [
    "date_transformer.get_f"
   ]
  },
  {
   "cell_type": "code",
   "execution_count": 222,
   "metadata": {},
   "outputs": [
    {
     "data": {
      "text/plain": [
       "array([[934300140, '20150323T000000', 4, ..., 1940, 7531, 2015],\n",
       "       [9238430680, '20140521T000000', 4, ..., 2680, 48706, 2014],\n",
       "       [191100870, '20140805T000000', 4, ..., 2580, 9525, 2014],\n",
       "       ...,\n",
       "       [3444100400, '20150316T000000', 3, ..., 1940, 50529, 2015],\n",
       "       [6933600540, '20140820T000000', 2, ..., 1730, 5760, 2014],\n",
       "       [405100295, '20140826T000000', 3, ..., 1740, 8000, 2014]],\n",
       "      dtype=object)"
      ]
     },
     "execution_count": 222,
     "metadata": {},
     "output_type": "execute_result"
    }
   ],
   "source": [
    "date_idx = 1\n",
    "\n",
    "class YearAdder(BaseEstimator, TransformerMixin):\n",
    "    def __init__(self):\n",
    "        super().__init__()\n",
    "    def fit(self, X, y=None):\n",
    "        # TODO: think this is the best place to put get_feature_names\n",
    "        return self\n",
    "    def transform(self, X):\n",
    "        yr_sold = pd.to_datetime(X[:,date_idx]).year\n",
    "        return np.c_[X, yr_sold]\n",
    "#     def get_feature_names(self):\n",
    "#         return list(X.columns).append('yr_sold')\n",
    "\n",
    "    \n",
    "YearAdder().fit_transform(np.array(X_train))"
   ]
  },
  {
   "cell_type": "code",
   "execution_count": 200,
   "metadata": {},
   "outputs": [
    {
     "data": {
      "text/plain": [
       "id                     934300140\n",
       "date             20150323T000000\n",
       "bedrooms                       4\n",
       "bathrooms                    1.5\n",
       "sqft_living                 2000\n",
       "sqft_lot                    6778\n",
       "floors                         1\n",
       "waterfront                     0\n",
       "view                           0\n",
       "condition                      4\n",
       "grade                          7\n",
       "sqft_above                  1170\n",
       "sqft_basement                830\n",
       "yr_built                    1962\n",
       "yr_renovated                   0\n",
       "zipcode                    98198\n",
       "lat                      47.3708\n",
       "long                    -122.311\n",
       "sqft_living15               1940\n",
       "sqft_lot15                  7531\n",
       "Name: 1571, dtype: object"
      ]
     },
     "execution_count": 200,
     "metadata": {},
     "output_type": "execute_result"
    }
   ],
   "source": [
    "X_train.iloc[0,:]"
   ]
  },
  {
   "cell_type": "code",
   "execution_count": 204,
   "metadata": {},
   "outputs": [],
   "source": [
    "# column indices\n",
    "bedrooms_idx, sqft_living_idx, yr_sold_idx, yr_built_idx, yr_renovated_idx = 0, 4, -1, 13, 14\n",
    "\n",
    "# add attributes, a custom sklearn transformer needs init, fit, and transform methods\n",
    "# fit_transform is created by adding TransformerMixin and BaseEstimator gives get/\n",
    "# set_params()\n",
    "class FeatureAdder(BaseEstimator, TransformerMixin):\n",
    "    def __init__(self, add_sqft_per_bedroom = True):\n",
    "        self.add_sqft_per_bedroom = add_sqft_per_bedroom\n",
    "    def fit(self, X, y=None):\n",
    "        return self\n",
    "    def transform(self, X):\n",
    "        # Subtract the larger of yr_built or yr_renovated from yr_sold,\n",
    "        # if this is negative (yr_reno after yr_sold) return 0\n",
    "        effective_age_guess = X[:, yr_sold_idx] - np.maximum(X[:, yr_renovated_idx], X[:, yr_built_idx])\n",
    "        effective_age = np.maximum(effective_age_guess, 0)\n",
    "        if self.add_sqft_per_bedroom:\n",
    "            sqft_per_bedroom = X[:, sqft_living_idx] / X[:, bedrooms_idx]\n",
    "            return np.c_[X, effective_age, sqft_per_bedroom]\n",
    "        else:\n",
    "            return np.c_[X, effective_age]\n",
    "        \n",
    "def drop_columns(X):\n",
    "    # drop id, date, yr_renovated, zipcode\n",
    "    return X[:,[0, *range(3, 14), *range(16, 23)]]\n",
    "\n"
   ]
  },
  {
   "cell_type": "code",
   "execution_count": 205,
   "metadata": {},
   "outputs": [
    {
     "data": {
      "text/html": [
       "<div>\n",
       "<style scoped>\n",
       "    .dataframe tbody tr th:only-of-type {\n",
       "        vertical-align: middle;\n",
       "    }\n",
       "\n",
       "    .dataframe tbody tr th {\n",
       "        vertical-align: top;\n",
       "    }\n",
       "\n",
       "    .dataframe thead th {\n",
       "        text-align: right;\n",
       "    }\n",
       "</style>\n",
       "<table border=\"1\" class=\"dataframe\">\n",
       "  <thead>\n",
       "    <tr style=\"text-align: right;\">\n",
       "      <th></th>\n",
       "      <th>id</th>\n",
       "      <th>date</th>\n",
       "      <th>bedrooms</th>\n",
       "      <th>bathrooms</th>\n",
       "      <th>sqft_living</th>\n",
       "      <th>sqft_lot</th>\n",
       "      <th>floors</th>\n",
       "      <th>waterfront</th>\n",
       "      <th>view</th>\n",
       "      <th>condition</th>\n",
       "      <th>grade</th>\n",
       "      <th>sqft_above</th>\n",
       "      <th>sqft_basement</th>\n",
       "      <th>yr_built</th>\n",
       "      <th>yr_renovated</th>\n",
       "      <th>zipcode</th>\n",
       "      <th>lat</th>\n",
       "      <th>long</th>\n",
       "      <th>sqft_living15</th>\n",
       "      <th>sqft_lot15</th>\n",
       "    </tr>\n",
       "  </thead>\n",
       "  <tbody>\n",
       "    <tr>\n",
       "      <th>14423</th>\n",
       "      <td>9543000205</td>\n",
       "      <td>20150413T000000</td>\n",
       "      <td>0</td>\n",
       "      <td>0.00</td>\n",
       "      <td>844</td>\n",
       "      <td>4269</td>\n",
       "      <td>1.0</td>\n",
       "      <td>0</td>\n",
       "      <td>0</td>\n",
       "      <td>4</td>\n",
       "      <td>7</td>\n",
       "      <td>844</td>\n",
       "      <td>0</td>\n",
       "      <td>1913</td>\n",
       "      <td>0</td>\n",
       "      <td>98001</td>\n",
       "      <td>47.2781</td>\n",
       "      <td>-122.250</td>\n",
       "      <td>1380</td>\n",
       "      <td>9600</td>\n",
       "    </tr>\n",
       "    <tr>\n",
       "      <th>9854</th>\n",
       "      <td>7849202190</td>\n",
       "      <td>20141223T000000</td>\n",
       "      <td>0</td>\n",
       "      <td>0.00</td>\n",
       "      <td>1470</td>\n",
       "      <td>4800</td>\n",
       "      <td>2.0</td>\n",
       "      <td>0</td>\n",
       "      <td>0</td>\n",
       "      <td>3</td>\n",
       "      <td>7</td>\n",
       "      <td>1470</td>\n",
       "      <td>0</td>\n",
       "      <td>1996</td>\n",
       "      <td>0</td>\n",
       "      <td>98065</td>\n",
       "      <td>47.5265</td>\n",
       "      <td>-121.828</td>\n",
       "      <td>1060</td>\n",
       "      <td>7200</td>\n",
       "    </tr>\n",
       "    <tr>\n",
       "      <th>18379</th>\n",
       "      <td>1222029077</td>\n",
       "      <td>20141029T000000</td>\n",
       "      <td>0</td>\n",
       "      <td>0.75</td>\n",
       "      <td>384</td>\n",
       "      <td>213444</td>\n",
       "      <td>1.0</td>\n",
       "      <td>0</td>\n",
       "      <td>0</td>\n",
       "      <td>3</td>\n",
       "      <td>4</td>\n",
       "      <td>384</td>\n",
       "      <td>0</td>\n",
       "      <td>2003</td>\n",
       "      <td>0</td>\n",
       "      <td>98070</td>\n",
       "      <td>47.4177</td>\n",
       "      <td>-122.491</td>\n",
       "      <td>1920</td>\n",
       "      <td>224341</td>\n",
       "    </tr>\n",
       "    <tr>\n",
       "      <th>9773</th>\n",
       "      <td>3374500520</td>\n",
       "      <td>20150429T000000</td>\n",
       "      <td>0</td>\n",
       "      <td>0.00</td>\n",
       "      <td>2460</td>\n",
       "      <td>8049</td>\n",
       "      <td>2.0</td>\n",
       "      <td>0</td>\n",
       "      <td>0</td>\n",
       "      <td>3</td>\n",
       "      <td>8</td>\n",
       "      <td>2460</td>\n",
       "      <td>0</td>\n",
       "      <td>1990</td>\n",
       "      <td>0</td>\n",
       "      <td>98031</td>\n",
       "      <td>47.4095</td>\n",
       "      <td>-122.168</td>\n",
       "      <td>2520</td>\n",
       "      <td>8050</td>\n",
       "    </tr>\n",
       "    <tr>\n",
       "      <th>6994</th>\n",
       "      <td>2954400190</td>\n",
       "      <td>20140624T000000</td>\n",
       "      <td>0</td>\n",
       "      <td>0.00</td>\n",
       "      <td>4810</td>\n",
       "      <td>28008</td>\n",
       "      <td>2.0</td>\n",
       "      <td>0</td>\n",
       "      <td>0</td>\n",
       "      <td>3</td>\n",
       "      <td>12</td>\n",
       "      <td>4810</td>\n",
       "      <td>0</td>\n",
       "      <td>1990</td>\n",
       "      <td>0</td>\n",
       "      <td>98053</td>\n",
       "      <td>47.6642</td>\n",
       "      <td>-122.069</td>\n",
       "      <td>4740</td>\n",
       "      <td>35061</td>\n",
       "    </tr>\n",
       "    <tr>\n",
       "      <th>12653</th>\n",
       "      <td>7849202299</td>\n",
       "      <td>20150218T000000</td>\n",
       "      <td>0</td>\n",
       "      <td>2.50</td>\n",
       "      <td>1490</td>\n",
       "      <td>7111</td>\n",
       "      <td>2.0</td>\n",
       "      <td>0</td>\n",
       "      <td>0</td>\n",
       "      <td>3</td>\n",
       "      <td>7</td>\n",
       "      <td>1490</td>\n",
       "      <td>0</td>\n",
       "      <td>1999</td>\n",
       "      <td>0</td>\n",
       "      <td>98065</td>\n",
       "      <td>47.5261</td>\n",
       "      <td>-121.826</td>\n",
       "      <td>1500</td>\n",
       "      <td>4675</td>\n",
       "    </tr>\n",
       "    <tr>\n",
       "      <th>3467</th>\n",
       "      <td>1453602309</td>\n",
       "      <td>20140805T000000</td>\n",
       "      <td>0</td>\n",
       "      <td>1.50</td>\n",
       "      <td>1430</td>\n",
       "      <td>1650</td>\n",
       "      <td>3.0</td>\n",
       "      <td>0</td>\n",
       "      <td>0</td>\n",
       "      <td>3</td>\n",
       "      <td>7</td>\n",
       "      <td>1430</td>\n",
       "      <td>0</td>\n",
       "      <td>1999</td>\n",
       "      <td>0</td>\n",
       "      <td>98125</td>\n",
       "      <td>47.7222</td>\n",
       "      <td>-122.290</td>\n",
       "      <td>1430</td>\n",
       "      <td>1650</td>\n",
       "    </tr>\n",
       "    <tr>\n",
       "      <th>4868</th>\n",
       "      <td>6896300380</td>\n",
       "      <td>20141002T000000</td>\n",
       "      <td>0</td>\n",
       "      <td>1.00</td>\n",
       "      <td>390</td>\n",
       "      <td>5900</td>\n",
       "      <td>1.0</td>\n",
       "      <td>0</td>\n",
       "      <td>0</td>\n",
       "      <td>2</td>\n",
       "      <td>4</td>\n",
       "      <td>390</td>\n",
       "      <td>0</td>\n",
       "      <td>1953</td>\n",
       "      <td>0</td>\n",
       "      <td>98118</td>\n",
       "      <td>47.5260</td>\n",
       "      <td>-122.261</td>\n",
       "      <td>2170</td>\n",
       "      <td>6000</td>\n",
       "    </tr>\n",
       "  </tbody>\n",
       "</table>\n",
       "</div>"
      ],
      "text/plain": [
       "               id             date  bedrooms  bathrooms  sqft_living  \\\n",
       "14423  9543000205  20150413T000000         0       0.00          844   \n",
       "9854   7849202190  20141223T000000         0       0.00         1470   \n",
       "18379  1222029077  20141029T000000         0       0.75          384   \n",
       "9773   3374500520  20150429T000000         0       0.00         2460   \n",
       "6994   2954400190  20140624T000000         0       0.00         4810   \n",
       "12653  7849202299  20150218T000000         0       2.50         1490   \n",
       "3467   1453602309  20140805T000000         0       1.50         1430   \n",
       "4868   6896300380  20141002T000000         0       1.00          390   \n",
       "\n",
       "       sqft_lot  floors  waterfront  view  condition  grade  sqft_above  \\\n",
       "14423      4269     1.0           0     0          4      7         844   \n",
       "9854       4800     2.0           0     0          3      7        1470   \n",
       "18379    213444     1.0           0     0          3      4         384   \n",
       "9773       8049     2.0           0     0          3      8        2460   \n",
       "6994      28008     2.0           0     0          3     12        4810   \n",
       "12653      7111     2.0           0     0          3      7        1490   \n",
       "3467       1650     3.0           0     0          3      7        1430   \n",
       "4868       5900     1.0           0     0          2      4         390   \n",
       "\n",
       "       sqft_basement  yr_built  yr_renovated  zipcode      lat     long  \\\n",
       "14423              0      1913             0    98001  47.2781 -122.250   \n",
       "9854               0      1996             0    98065  47.5265 -121.828   \n",
       "18379              0      2003             0    98070  47.4177 -122.491   \n",
       "9773               0      1990             0    98031  47.4095 -122.168   \n",
       "6994               0      1990             0    98053  47.6642 -122.069   \n",
       "12653              0      1999             0    98065  47.5261 -121.826   \n",
       "3467               0      1999             0    98125  47.7222 -122.290   \n",
       "4868               0      1953             0    98118  47.5260 -122.261   \n",
       "\n",
       "       sqft_living15  sqft_lot15  \n",
       "14423           1380        9600  \n",
       "9854            1060        7200  \n",
       "18379           1920      224341  \n",
       "9773            2520        8050  \n",
       "6994            4740       35061  \n",
       "12653           1500        4675  \n",
       "3467            1430        1650  \n",
       "4868            2170        6000  "
      ]
     },
     "execution_count": 205,
     "metadata": {},
     "output_type": "execute_result"
    }
   ],
   "source": [
    "X_train[X_train.bedrooms == 0]"
   ]
  },
  {
   "cell_type": "code",
   "execution_count": 189,
   "metadata": {},
   "outputs": [],
   "source": [
    "# Need this step in order to compute sqft_per_bedroom without dividing by zero,\n",
    "# there are only about ten instances of zero bedrooms since the dataset is single-family\n",
    "# home sales\n",
    "\n",
    "BedroomImputer = SimpleImputer(missing_values=0, strategy='constant', fill_value=1)\n",
    "bedroom_pipe = ColumnTransformer([\n",
    "    ('bedroom_imputer', BedroomImputer, [2]),\n",
    "], remainder='passthrough')"
   ]
  },
  {
   "cell_type": "code",
   "execution_count": 209,
   "metadata": {},
   "outputs": [],
   "source": [
    "features_pipe = Pipeline([\n",
    "    ('yr_sold_adder', DateAdder()),\n",
    "    ('bedroom_pipe', bedroom_pipe),\n",
    "    ('feature_adder', FeatureAdder()),\n",
    "    ('column_dropper', FunctionTransformer(drop_columns)),\n",
    "    \n",
    "])\n",
    "\n",
    "\n",
    "\n",
    "test_res = features_pipe.fit_transform(np.array(X_train))"
   ]
  },
  {
   "cell_type": "code",
   "execution_count": 212,
   "metadata": {},
   "outputs": [
    {
     "data": {
      "text/plain": [
       "DateAdder()"
      ]
     },
     "execution_count": 212,
     "metadata": {},
     "output_type": "execute_result"
    }
   ],
   "source": [
    "features_pipe.named_steps['yr_sold_adder']"
   ]
  },
  {
   "cell_type": "code",
   "execution_count": 215,
   "metadata": {},
   "outputs": [
    {
     "data": {
      "text/plain": [
       "[]"
      ]
     },
     "execution_count": 215,
     "metadata": {},
     "output_type": "execute_result"
    }
   ],
   "source": [
    "DateAdder._get_param_names()"
   ]
  },
  {
   "cell_type": "code",
   "execution_count": 182,
   "metadata": {},
   "outputs": [
    {
     "data": {
      "text/plain": [
       "array([[934300140, '20150323T000000', 4, ..., -122.311, 1940, 7531],\n",
       "       [9238430680, '20140521T000000', 4, ..., -122.125, 2680, 48706],\n",
       "       [191100870, '20140805T000000', 4, ..., -122.219, 2580, 9525],\n",
       "       ...,\n",
       "       [3444100400, '20150316T000000', 3, ..., -122.073, 1940, 50529],\n",
       "       [6933600540, '20140820T000000', 2, ..., -122.38799999999999, 1730,\n",
       "        5760],\n",
       "       [405100295, '20140826T000000', 3, ..., -122.354, 1740, 8000]],\n",
       "      dtype=object)"
      ]
     },
     "execution_count": 182,
     "metadata": {},
     "output_type": "execute_result"
    }
   ],
   "source": [
    "X_train.values"
   ]
  },
  {
   "cell_type": "code",
   "execution_count": 207,
   "metadata": {},
   "outputs": [
    {
     "data": {
      "text/plain": [
       "id                     934300140\n",
       "date             20150323T000000\n",
       "bedrooms                       4\n",
       "bathrooms                    1.5\n",
       "sqft_living                 2000\n",
       "sqft_lot                    6778\n",
       "floors                         1\n",
       "waterfront                     0\n",
       "view                           0\n",
       "condition                      4\n",
       "grade                          7\n",
       "sqft_above                  1170\n",
       "sqft_basement                830\n",
       "yr_built                    1962\n",
       "yr_renovated                   0\n",
       "zipcode                    98198\n",
       "lat                      47.3708\n",
       "long                    -122.311\n",
       "sqft_living15               1940\n",
       "sqft_lot15                  7531\n",
       "Name: 1571, dtype: object"
      ]
     },
     "execution_count": 207,
     "metadata": {},
     "output_type": "execute_result"
    }
   ],
   "source": [
    "X_train.iloc[0, :]"
   ]
  },
  {
   "cell_type": "code",
   "execution_count": 306,
   "metadata": {},
   "outputs": [
    {
     "data": {
      "text/plain": [
       "array([ 4.00000e+00,  1.50000e+00,  2.00000e+03,  6.77800e+03,\n",
       "        1.00000e+00,  0.00000e+00,  0.00000e+00,  4.00000e+00,\n",
       "        7.00000e+00,  1.17000e+03,  8.30000e+02,  1.96200e+03,\n",
       "        4.73708e+01, -1.22311e+02,  1.94000e+03,  7.53100e+03,\n",
       "        2.01500e+03,  5.30000e+01,  5.00000e+02])"
      ]
     },
     "execution_count": 306,
     "metadata": {},
     "output_type": "execute_result"
    }
   ],
   "source": [
    "test_res[0].astype('float64')"
   ]
  },
  {
   "cell_type": "code",
   "execution_count": 146,
   "metadata": {},
   "outputs": [
    {
     "data": {
      "text/plain": [
       "['bedrooms',\n",
       " 'bathrooms',\n",
       " 'sqft_living',\n",
       " 'sqft_lot',\n",
       " 'floors',\n",
       " 'waterfront',\n",
       " 'view',\n",
       " 'condition',\n",
       " 'grade',\n",
       " 'sqft_above',\n",
       " 'sqft_basement',\n",
       " 'yr_built',\n",
       " 'yr_renovated',\n",
       " 'zipcode',\n",
       " 'lat',\n",
       " 'long',\n",
       " 'sqft_living15',\n",
       " 'sqft_lot15']"
      ]
     },
     "execution_count": 146,
     "metadata": {},
     "output_type": "execute_result"
    }
   ],
   "source": [
    "# all but first two columns (id, date) of original X_train\n",
    "features = list(X_train.columns[2:])\n",
    "features"
   ]
  },
  {
   "cell_type": "code",
   "execution_count": 229,
   "metadata": {},
   "outputs": [],
   "source": [
    "features = list(X_train.columns[2:])\n",
    "features.remove('zipcode')\n",
    "features.remove('yr_renovated')\n",
    "\n",
    "features += ['yr_sold', 'effective_age', 'sqft_per_bedroom']"
   ]
  },
  {
   "cell_type": "code",
   "execution_count": 230,
   "metadata": {},
   "outputs": [
    {
     "data": {
      "text/plain": [
       "['bedrooms',\n",
       " 'bathrooms',\n",
       " 'sqft_living',\n",
       " 'sqft_lot',\n",
       " 'floors',\n",
       " 'waterfront',\n",
       " 'view',\n",
       " 'condition',\n",
       " 'grade',\n",
       " 'sqft_above',\n",
       " 'sqft_basement',\n",
       " 'yr_built',\n",
       " 'lat',\n",
       " 'long',\n",
       " 'sqft_living15',\n",
       " 'sqft_lot15',\n",
       " 'yr_sold',\n",
       " 'effective_age',\n",
       " 'sqft_per_bedroom']"
      ]
     },
     "execution_count": 230,
     "metadata": {},
     "output_type": "execute_result"
    }
   ],
   "source": [
    "features"
   ]
  },
  {
   "cell_type": "code",
   "execution_count": 366,
   "metadata": {},
   "outputs": [
    {
     "name": "stdout",
     "output_type": "stream",
     "text": [
      "[6, 7, 8]\n"
     ]
    },
    {
     "data": {
      "text/plain": [
       "[0, 1, 2, 3, 4, 9, 10, 11, 12, 13, 14, 15, 16, 17, 18]"
      ]
     },
     "execution_count": 366,
     "metadata": {},
     "output_type": "execute_result"
    }
   ],
   "source": [
    "\n",
    "cat_indices = [*range(5,9)]\n",
    "\n",
    "\n",
    "num_indices = [x for x, _ in enumerate(features) if x not in cat_indices]\n",
    "cat_indices.remove(5)\n",
    "\n",
    "print(cat_indices)\n",
    "num_indices"
   ]
  },
  {
   "cell_type": "code",
   "execution_count": 367,
   "metadata": {},
   "outputs": [],
   "source": [
    "def positive_gate(array):\n",
    "    return np.abs(array) + 1"
   ]
  },
  {
   "cell_type": "code",
   "execution_count": 368,
   "metadata": {},
   "outputs": [],
   "source": [
    "# preprocessing steps\n",
    "\n",
    "num_pipeline = Pipeline([\n",
    "    ('imputer', SimpleImputer(strategy='median')),\n",
    "    ('scaler', QuantileTransformer(output_distribution='normal'))\n",
    "])\n",
    "\n",
    "\n",
    "\n",
    "cat_pipeline = Pipeline([\n",
    "    ('one_hot', OneHotEncoder())\n",
    "])\n",
    "\n",
    "\n",
    "# Waterfront has only 0 and 1 so is effectively already one-hotted (only column in 'passthrough')\n",
    "preprocessor = ColumnTransformer([\n",
    "    ('num', num_pipeline, num_indices),\n",
    "    ('waterfront', 'passthrough', [5]),\n",
    "    ('cat', cat_pipeline, cat_indices)\n",
    "    ])"
   ]
  },
  {
   "cell_type": "code",
   "execution_count": null,
   "metadata": {},
   "outputs": [],
   "source": [
    "num_pipeline2 = Pipeline([\n",
    "    ('imputer', SimpleImputer(strategy='median')),\n",
    "    ('scaler', RobustScaler())\n",
    "])"
   ]
  },
  {
   "cell_type": "code",
   "execution_count": 332,
   "metadata": {},
   "outputs": [],
   "source": [
    "num_test = ColumnTransformer([\n",
    "    ('num', num_pipeline, num_indices),\n",
    "])\n",
    "\n",
    "num_prep = num_test.fit_transform(test_res)"
   ]
  },
  {
   "cell_type": "code",
   "execution_count": 333,
   "metadata": {},
   "outputs": [
    {
     "data": {
      "text/plain": [
       "array([ 0.67843252, -0.78845531,  0.09801306, -0.25137441, -5.19933758,\n",
       "       -5.19933758,  0.81265408, -0.47802469, -0.72334253,  1.06188413,\n",
       "       -0.32822342, -1.079065  , -0.51922535,  0.14731565, -0.03543281,\n",
       "        5.19933758])"
      ]
     },
     "execution_count": 333,
     "metadata": {},
     "output_type": "execute_result"
    }
   ],
   "source": [
    "num_prep[0]"
   ]
  },
  {
   "cell_type": "code",
   "execution_count": 369,
   "metadata": {},
   "outputs": [],
   "source": [
    "prepared = preprocessor.fit_transform(test_res)"
   ]
  },
  {
   "cell_type": "code",
   "execution_count": 370,
   "metadata": {},
   "outputs": [
    {
     "data": {
      "text/plain": [
       "(array([1.000e+00, 0.000e+00, 2.000e+00, 1.400e+01, 6.800e+01, 2.520e+02,\n",
       "        6.690e+02, 1.575e+03, 2.679e+03, 3.400e+03, 3.392e+03, 2.659e+03,\n",
       "        1.554e+03, 7.010e+02, 2.440e+02, 6.900e+01, 1.000e+01, 0.000e+00,\n",
       "        0.000e+00, 1.000e+00]),\n",
       " array([-5.19933758e+00, -4.67940382e+00, -4.15947007e+00, -3.63953631e+00,\n",
       "        -3.11960255e+00, -2.59966879e+00, -2.07973503e+00, -1.55980127e+00,\n",
       "        -1.03986752e+00, -5.19933758e-01,  4.89217555e-11,  5.19933758e-01,\n",
       "         1.03986752e+00,  1.55980127e+00,  2.07973503e+00,  2.59966879e+00,\n",
       "         3.11960255e+00,  3.63953631e+00,  4.15947007e+00,  4.67940382e+00,\n",
       "         5.19933758e+00]),\n",
       " <BarContainer object of 20 artists>)"
      ]
     },
     "execution_count": 370,
     "metadata": {},
     "output_type": "execute_result"
    },
    {
     "data": {
      "image/png": "[encoded data removed]",
      "text/plain": [
       "<Figure size 432x288 with 1 Axes>"
      ]
     },
     "metadata": {
      "needs_background": "light"
     },
     "output_type": "display_data"
    }
   ],
   "source": [
    "plt.hist(num_prep[:, 8], bins=20)"
   ]
  },
  {
   "cell_type": "code",
   "execution_count": 371,
   "metadata": {},
   "outputs": [
    {
     "data": {
      "text/plain": [
       "(array([1.000e+00, 0.000e+00, 1.000e+00, 1.000e+01, 7.000e+01, 2.420e+02,\n",
       "        7.010e+02, 1.555e+03, 2.632e+03, 3.432e+03, 3.433e+03, 2.634e+03,\n",
       "        1.555e+03, 6.990e+02, 2.440e+02, 6.500e+01, 1.100e+01, 3.000e+00,\n",
       "        0.000e+00, 2.000e+00]),\n",
       " array([-5.199337582605575, -4.679403824340126, -4.159470066074675,\n",
       "        -3.6395363078092258, -3.1196025495437762, -2.5996687912783267,\n",
       "        -2.0797350330128768, -1.5598012747474268, -1.0398675164819773,\n",
       "        -0.5199337582165278, 4.89217555355026e-11, 0.5199337583143722,\n",
       "        1.0398675165798217, 1.5598012748452712, 2.0797350331107216,\n",
       "        2.599668791376171, 3.1196025496416206, 3.639536307907071,\n",
       "        4.15947006617252, 4.67940382443797, 5.19933758270342], dtype=object),\n",
       " <BarContainer object of 20 artists>)"
      ]
     },
     "execution_count": 371,
     "metadata": {},
     "output_type": "execute_result"
    },
    {
     "data": {
      "image/png": "[encoded data removed]",
      "text/plain": [
       "<Figure size 432x288 with 1 Axes>"
      ]
     },
     "metadata": {
      "needs_background": "light"
     },
     "output_type": "display_data"
    }
   ],
   "source": [
    "plt.hist(prepared[:, 8], bins=20)"
   ]
  },
  {
   "cell_type": "code",
   "execution_count": 372,
   "metadata": {},
   "outputs": [
    {
     "data": {
      "text/plain": [
       "['waterfront',\n",
       " 'view_0',\n",
       " 'view_1',\n",
       " 'view_2',\n",
       " 'view_3',\n",
       " 'view_4',\n",
       " 'condition_1',\n",
       " 'condition_2',\n",
       " 'condition_3',\n",
       " 'condition_4',\n",
       " 'condition_5',\n",
       " 'grade_3',\n",
       " 'grade_4',\n",
       " 'grade_5',\n",
       " 'grade_6',\n",
       " 'grade_7',\n",
       " 'grade_8',\n",
       " 'grade_9',\n",
       " 'grade_10',\n",
       " 'grade_11',\n",
       " 'grade_12',\n",
       " 'grade_13']"
      ]
     },
     "execution_count": 372,
     "metadata": {},
     "output_type": "execute_result"
    }
   ],
   "source": [
    "cat_features = ['waterfront'] + list(preprocessor.transformers_[2][1]['one_hot']\\\n",
    "                   .get_feature_names(features[6:9]))\n",
    "cat_features"
   ]
  },
  {
   "cell_type": "code",
   "execution_count": 373,
   "metadata": {},
   "outputs": [
    {
     "data": {
      "text/plain": [
       "['bedrooms',\n",
       " 'bathrooms',\n",
       " 'sqft_living',\n",
       " 'sqft_lot',\n",
       " 'floors',\n",
       " 'sqft_above',\n",
       " 'sqft_basement',\n",
       " 'yr_built',\n",
       " 'lat',\n",
       " 'long',\n",
       " 'sqft_living15',\n",
       " 'sqft_lot15',\n",
       " 'yr_sold',\n",
       " 'effective_age',\n",
       " 'sqft_per_bedroom']"
      ]
     },
     "execution_count": 373,
     "metadata": {},
     "output_type": "execute_result"
    }
   ],
   "source": [
    "num_features = [features[idx] for idx in num_indices]\n",
    "num_features"
   ]
  },
  {
   "cell_type": "code",
   "execution_count": 374,
   "metadata": {},
   "outputs": [
    {
     "data": {
      "text/plain": [
       "[0, 1, 2, 3, 4, 9, 10, 11, 12, 13, 14, 15, 16, 17, 18]"
      ]
     },
     "execution_count": 374,
     "metadata": {},
     "output_type": "execute_result"
    }
   ],
   "source": [
    "num_indices"
   ]
  },
  {
   "cell_type": "code",
   "execution_count": 375,
   "metadata": {},
   "outputs": [],
   "source": [
    "features_prepared = num_features + cat_features"
   ]
  },
  {
   "cell_type": "code",
   "execution_count": 376,
   "metadata": {},
   "outputs": [
    {
     "data": {
      "text/plain": [
       "['bedrooms',\n",
       " 'bathrooms',\n",
       " 'sqft_living',\n",
       " 'sqft_lot',\n",
       " 'floors',\n",
       " 'sqft_above',\n",
       " 'sqft_basement',\n",
       " 'yr_built',\n",
       " 'lat',\n",
       " 'long',\n",
       " 'sqft_living15',\n",
       " 'sqft_lot15',\n",
       " 'yr_sold',\n",
       " 'effective_age',\n",
       " 'sqft_per_bedroom',\n",
       " 'waterfront',\n",
       " 'view_0',\n",
       " 'view_1',\n",
       " 'view_2',\n",
       " 'view_3',\n",
       " 'view_4',\n",
       " 'condition_1',\n",
       " 'condition_2',\n",
       " 'condition_3',\n",
       " 'condition_4',\n",
       " 'condition_5',\n",
       " 'grade_3',\n",
       " 'grade_4',\n",
       " 'grade_5',\n",
       " 'grade_6',\n",
       " 'grade_7',\n",
       " 'grade_8',\n",
       " 'grade_9',\n",
       " 'grade_10',\n",
       " 'grade_11',\n",
       " 'grade_12',\n",
       " 'grade_13']"
      ]
     },
     "execution_count": 376,
     "metadata": {},
     "output_type": "execute_result"
    }
   ],
   "source": [
    "features_prepared"
   ]
  },
  {
   "cell_type": "code",
   "execution_count": 377,
   "metadata": {},
   "outputs": [
    {
     "data": {
      "text/plain": [
       "array([0.6784325172268452, -0.7884553079874755, 0.09801306125907777,\n",
       "       -0.2513744084629201, -5.199337582605575, -0.7233425303259227,\n",
       "       1.0618841348770716, -0.32822341801540295, -1.0790649959809744,\n",
       "       -0.5192253494916858, 0.14731564676985873, -0.03543281164873538,\n",
       "       5.19933758270342, 0.436239926210473, -0.4626104126272192, 0, 1.0,\n",
       "       0.0, 0.0, 0.0, 0.0, 0.0, 0.0, 0.0, 1.0, 0.0, 0.0, 0.0, 0.0, 0.0,\n",
       "       1.0, 0.0, 0.0, 0.0, 0.0, 0.0, 0.0], dtype=object)"
      ]
     },
     "execution_count": 377,
     "metadata": {},
     "output_type": "execute_result"
    }
   ],
   "source": [
    "prepared[0]"
   ]
  },
  {
   "cell_type": "code",
   "execution_count": 258,
   "metadata": {},
   "outputs": [
    {
     "data": {
      "text/plain": [
       "1       25\n",
       "2      140\n",
       "3    11270\n",
       "4     4507\n",
       "5     1348\n",
       "Name: condition, dtype: int64"
      ]
     },
     "execution_count": 258,
     "metadata": {},
     "output_type": "execute_result"
    }
   ],
   "source": [
    "X_train.condition.value_counts().sort_index()"
   ]
  },
  {
   "cell_type": "code",
   "execution_count": 349,
   "metadata": {},
   "outputs": [
    {
     "data": {
      "text/plain": [
       "LinearRegression()"
      ]
     },
     "execution_count": 349,
     "metadata": {},
     "output_type": "execute_result"
    }
   ],
   "source": [
    "lin_reg = LinearRegression()\n",
    "lin_reg.fit(prepared, y_train)"
   ]
  },
  {
   "cell_type": "code",
   "execution_count": 350,
   "metadata": {},
   "outputs": [
    {
     "data": {
      "text/plain": [
       "array([395763.69775391, 658138.87365723, 752325.69226074, ...,\n",
       "       348503.8380127 , 280791.75073242, 487595.26574707])"
      ]
     },
     "execution_count": 350,
     "metadata": {},
     "output_type": "execute_result"
    }
   ],
   "source": [
    "lin_predictions = lin_reg.predict(prepared)\n",
    "lin_predictions"
   ]
  },
  {
   "cell_type": "code",
   "execution_count": 351,
   "metadata": {},
   "outputs": [
    {
     "data": {
      "text/plain": [
       "204195.10371348617"
      ]
     },
     "execution_count": 351,
     "metadata": {},
     "output_type": "execute_result"
    }
   ],
   "source": [
    "lin_rmse = mean_squared_error(y_train, lin_predictions, squared=False)\n",
    "lin_rmse"
   ]
  },
  {
   "cell_type": "code",
   "execution_count": 352,
   "metadata": {},
   "outputs": [
    {
     "data": {
      "text/plain": [
       "125392.12360649926"
      ]
     },
     "execution_count": 352,
     "metadata": {},
     "output_type": "execute_result"
    }
   ],
   "source": [
    "lin_mae = mean_absolute_error(y_train, lin_predictions)\n",
    "lin_mae"
   ]
  },
  {
   "cell_type": "code",
   "execution_count": 353,
   "metadata": {},
   "outputs": [
    {
     "data": {
      "text/plain": [
       "DecisionTreeRegressor(random_state=13)"
      ]
     },
     "execution_count": 353,
     "metadata": {},
     "output_type": "execute_result"
    }
   ],
   "source": [
    "tree_reg = DecisionTreeRegressor(random_state=13)\n",
    "tree_reg.fit(prepared, y_train)"
   ]
  },
  {
   "cell_type": "code",
   "execution_count": 354,
   "metadata": {},
   "outputs": [
    {
     "data": {
      "text/plain": [
       "array([284950., 625000., 838400., ..., 349000., 508000., 265000.])"
      ]
     },
     "execution_count": 354,
     "metadata": {},
     "output_type": "execute_result"
    }
   ],
   "source": [
    "tree_predictions = tree_reg.predict(prepared)\n",
    "tree_predictions"
   ]
  },
  {
   "cell_type": "code",
   "execution_count": 355,
   "metadata": {},
   "outputs": [
    {
     "data": {
      "text/plain": [
       "3444.313096687119"
      ]
     },
     "execution_count": 355,
     "metadata": {},
     "output_type": "execute_result"
    }
   ],
   "source": [
    "tree_rmse = mean_squared_error(y_train, tree_predictions, squared=False)\n",
    "tree_rmse"
   ]
  },
  {
   "cell_type": "code",
   "execution_count": 356,
   "metadata": {},
   "outputs": [
    {
     "data": {
      "text/plain": [
       "144.40306535569692"
      ]
     },
     "execution_count": 356,
     "metadata": {},
     "output_type": "execute_result"
    }
   ],
   "source": [
    "tree_mae = mean_absolute_error(y_train, tree_predictions)\n",
    "tree_mae"
   ]
  },
  {
   "cell_type": "code",
   "execution_count": 357,
   "metadata": {},
   "outputs": [
    {
     "name": "stdout",
     "output_type": "stream",
     "text": [
      "[107129.70734529  96034.48582996 100221.97339503 104295.50896472\n",
      " 104532.50665124 101062.51706189  97589.72238288 102227.02949682\n",
      " 101181.97050318 104216.05147484]\n",
      "101849.14731058414\n",
      "3201.2348099515143\n"
     ]
    }
   ],
   "source": [
    "neg_tree_scores = cross_val_score(tree_reg, prepared, y_train,\n",
    "                        scoring='neg_mean_absolute_error', cv=10)\n",
    "tree_scores = -neg_tree_scores\n",
    "print(tree_scores)\n",
    "print(tree_scores.mean())\n",
    "print(tree_scores.std())\n"
   ]
  },
  {
   "cell_type": "code",
   "execution_count": 358,
   "metadata": {},
   "outputs": [
    {
     "name": "stdout",
     "output_type": "stream",
     "text": [
      "[132360.17683632 126705.61444477 123277.49396327 128071.60023858\n",
      " 126675.2060801  124088.11176981 120704.85280509 128656.2332273\n",
      " 125250.83082707 122404.23742047]\n",
      "125819.43576127819\n",
      "3240.731629837507\n"
     ]
    }
   ],
   "source": [
    "neg_lin_scores = cross_val_score(lin_reg, prepared, y_train,\n",
    "                        scoring='neg_mean_absolute_error', cv=10)\n",
    "lin_scores = -neg_lin_scores\n",
    "print(lin_scores)\n",
    "print(lin_scores.mean())\n",
    "print(lin_scores.std())"
   ]
  },
  {
   "cell_type": "code",
   "execution_count": 378,
   "metadata": {},
   "outputs": [
    {
     "data": {
      "text/plain": [
       "array([280713.  , 622411.76, 871311.88, ..., 349523.86, 499150.  ,\n",
       "       296734.5 ])"
      ]
     },
     "execution_count": 378,
     "metadata": {},
     "output_type": "execute_result"
    }
   ],
   "source": [
    "forest_reg = RandomForestRegressor(random_state=13)\n",
    "forest_reg.fit(prepared, y_train)\n",
    "forest_predictions = forest_reg.predict(prepared)\n",
    "forest_predictions"
   ]
  },
  {
   "cell_type": "code",
   "execution_count": 379,
   "metadata": {},
   "outputs": [
    {
     "name": "stdout",
     "output_type": "stream",
     "text": [
      "[75575.96857391 68515.15634333 72372.32976682 72672.73753835\n",
      " 73974.36468396 70402.54110227 67617.4330416  71230.49250246\n",
      " 71659.99478834 71743.47817752]\n",
      "71576.44965185766\n",
      "2239.628888629237\n"
     ]
    }
   ],
   "source": [
    "neg_forest_scores = cross_val_score(forest_reg, prepared, y_train,\n",
    "                               scoring='neg_mean_absolute_error', cv=10)\n",
    "\n",
    "forest_scores = -neg_forest_scores\n",
    "print(forest_scores)\n",
    "print(forest_scores.mean())\n",
    "print(forest_scores.std())"
   ]
  },
  {
   "cell_type": "markdown",
   "metadata": {},
   "source": [
    "### Testing A Quick Hunch: Large Errors are Skewing the Overall Results\n",
    "(This looks to be the case, as the median absolute errors are much smaller than the mean absolute errors, and the variance in these scores is also much smaller)"
   ]
  },
  {
   "cell_type": "code",
   "execution_count": 380,
   "metadata": {},
   "outputs": [
    {
     "name": "stdout",
     "output_type": "stream",
     "text": [
      "[42036.02 36294.92 40147.18 38916.25 39217.5  40575.82 39020.72 38672.3\n",
      " 41074.95 37640.  ]\n",
      "39359.566000000006\n",
      "1592.4315750273258\n"
     ]
    }
   ],
   "source": [
    "neg_forest_scores = cross_val_score(forest_reg, prepared, y_train,\n",
    "                               scoring='neg_median_absolute_error', cv=10)\n",
    "\n",
    "forest_scores = -neg_forest_scores\n",
    "print(forest_scores)\n",
    "print(forest_scores.mean())\n",
    "print(forest_scores.std())"
   ]
  },
  {
   "cell_type": "code",
   "execution_count": 381,
   "metadata": {},
   "outputs": [
    {
     "data": {
      "text/plain": [
       "array([1.70691835e-03, 6.48647476e-03, 5.35355472e-01, 1.42810108e-02,\n",
       "       1.69033064e-03, 2.16952119e-02, 5.49540579e-03, 9.13294955e-03,\n",
       "       1.83585872e-01, 7.77655196e-02, 4.29058970e-02, 1.53187745e-02,\n",
       "       1.89832969e-03, 7.88786000e-03, 1.08664251e-02, 2.32154457e-02,\n",
       "       4.25593269e-03, 3.91466342e-04, 6.82565965e-04, 9.81745872e-04,\n",
       "       7.19942360e-03, 1.06409452e-04, 2.05770167e-04, 1.08678915e-03,\n",
       "       7.13323740e-04, 9.79257757e-04, 3.09350962e-07, 6.46487383e-06,\n",
       "       6.52624906e-05, 4.94634598e-04, 5.05749284e-03, 3.01571249e-03,\n",
       "       2.90808246e-03, 3.04001581e-03, 2.65197837e-03, 6.38764086e-03,\n",
       "       4.81823278e-04])"
      ]
     },
     "execution_count": 381,
     "metadata": {},
     "output_type": "execute_result"
    }
   ],
   "source": [
    "forest_reg.feature_importances_"
   ]
  },
  {
   "cell_type": "code",
   "execution_count": 388,
   "metadata": {},
   "outputs": [
    {
     "data": {
      "text/plain": [
       "[('sqft_living', 0.5353554722000828),\n",
       " ('lat', 0.18358587219646982),\n",
       " ('long', 0.07776551959906913),\n",
       " ('sqft_living15', 0.04290589698558635),\n",
       " ('waterfront', 0.023215445749947484),\n",
       " ('sqft_above', 0.021695211889492878),\n",
       " ('sqft_lot15', 0.015318774534212199),\n",
       " ('sqft_lot', 0.014281010776033531),\n",
       " ('sqft_per_bedroom', 0.010866425148846923),\n",
       " ('yr_built', 0.009132949547496116),\n",
       " ('effective_age', 0.00788786000433704),\n",
       " ('view_4', 0.0071994236018474884),\n",
       " ('bathrooms', 0.0064864747554215394),\n",
       " ('grade_12', 0.006387640857675902),\n",
       " ('sqft_basement', 0.00549540578872887),\n",
       " ('grade_7', 0.005057492841134382),\n",
       " ('view_0', 0.004255932686766447),\n",
       " ('grade_10', 0.0030400158114107733),\n",
       " ('grade_8', 0.003015712489177895),\n",
       " ('grade_9', 0.002908082457585618),\n",
       " ('grade_11', 0.0026519783698274067),\n",
       " ('yr_sold', 0.001898329685281968),\n",
       " ('bedrooms', 0.0017069183457824046),\n",
       " ('floors', 0.0016903306447568426),\n",
       " ('condition_3', 0.001086789147519662),\n",
       " ('view_3', 0.0009817458718637618),\n",
       " ('condition_5', 0.0009792577565337398),\n",
       " ('condition_4', 0.0007133237397018372),\n",
       " ('view_2', 0.0006825659651702852),\n",
       " ('grade_6', 0.0004946345980936902),\n",
       " ('grade_13', 0.00048182327842902667),\n",
       " ('view_1', 0.0003914663416165712),\n",
       " ('condition_2', 0.0002057701669984417),\n",
       " ('condition_1', 0.00010640945170674368),\n",
       " ('grade_5', 6.526249059873198e-05),\n",
       " ('grade_4', 6.464873833663215e-06),\n",
       " ('grade_3', 3.09350961861754e-07)]"
      ]
     },
     "execution_count": 388,
     "metadata": {},
     "output_type": "execute_result"
    }
   ],
   "source": [
    "feature_import = {x:y for x, y in zip(features_prepared,forest_reg.feature_importances_)}\n",
    "sorted(feature_import.items(), key=lambda item: item[1],reverse=True)"
   ]
  },
  {
   "cell_type": "code",
   "execution_count": null,
   "metadata": {},
   "outputs": [],
   "source": []
  }
 ],
 "metadata": {
  "kernelspec": {
   "display_name": "kc-env",
   "language": "python",
   "name": "kc-env"
  },
  "language_info": {
   "codemirror_mode": {
    "name": "ipython",
    "version": 3
   },
   "file_extension": ".py",
   "mimetype": "text/x-python",
   "name": "python",
   "nbconvert_exporter": "python",
   "pygments_lexer": "ipython3",
   "version": "3.8.5"
  }
 },
 "nbformat": 4,
 "nbformat_minor": 4
}
