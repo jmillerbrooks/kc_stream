{
 "cells": [
  {
   "cell_type": "code",
   "execution_count": 2,
   "metadata": {},
   "outputs": [],
   "source": [
    "import pandas as pd\n",
    "import matplotlib.pyplot as plt\n",
    "import numpy as np\n",
    "from sklearn.model_selection import train_test_split, cross_val_score, GridSearchCV, RandomizedSearchCV\n",
    "from sklearn.impute import SimpleImputer\n",
    "from sklearn.preprocessing import OneHotEncoder, StandardScaler, FunctionTransformer\n",
    "from sklearn.pipeline import Pipeline\n",
    "from sklearn.compose import ColumnTransformer, make_column_selector\n",
    "from sklearn.base import BaseEstimator, TransformerMixin\n",
    "from sklearn.linear_model import LinearRegression\n",
    "from sklearn.metrics import mean_squared_error, mean_absolute_error\n",
    "from sklearn.tree import DecisionTreeRegressor\n",
    "from sklearn.ensemble import RandomForestRegressor\n",
    "from sklearn.svm import SVR"
   ]
  },
  {
   "cell_type": "code",
   "execution_count": null,
   "metadata": {},
   "outputs": [],
   "source": [
    "sales_raw = pd.read_csv('../data/kc_house_data.csv')\n",
    "sales_raw.head()"
   ]
  },
  {
   "cell_type": "code",
   "execution_count": null,
   "metadata": {},
   "outputs": [],
   "source": [
    "X, y = sales_raw.drop('price', axis=1), sales_raw['price']\n",
    "\n",
    "X_train, X_test, y_train, y_test = train_test_split(X, y, test_size=0.2, random_state=13)"
   ]
  },
  {
   "cell_type": "code",
   "execution_count": null,
   "metadata": {},
   "outputs": [],
   "source": [
    "date_idx = 1\n",
    "\n",
    "class YearAdder(BaseEstimator, TransformerMixin):\n",
    "    def __init__(self):\n",
    "        super().__init__()\n",
    "    def fit(self, X, y=None):\n",
    "        # TODO: think this is the best place to put get_feature_names\n",
    "        return self\n",
    "    def transform(self, X):\n",
    "        yr_sold = pd.to_datetime(X[:,date_idx]).year\n",
    "        return np.c_[X, yr_sold]\n",
    "#     def get_feature_names(self):\n",
    "#         return list(X.columns).append('yr_sold')"
   ]
  },
  {
   "cell_type": "code",
   "execution_count": null,
   "metadata": {},
   "outputs": [],
   "source": [
    "# Need this step in order to compute sqft_per_bedroom without dividing by zero,\n",
    "# there are only about ten instances of zero bedrooms since the dataset is single-family\n",
    "# home sales\n",
    "\n",
    "BedroomImputer = SimpleImputer(missing_values=0, strategy='constant', fill_value=1)\n",
    "bedroom_pipe = ColumnTransformer([\n",
    "    # original index of bedrooms col is 2, returns transformed bedrooms col\n",
    "    # and then all other columns in original order\n",
    "    ('bedroom_imputer', BedroomImputer, [2]),\n",
    "], remainder='passthrough')"
   ]
  },
  {
   "cell_type": "code",
   "execution_count": null,
   "metadata": {},
   "outputs": [],
   "source": [
    "# column indices after the first two pipeline steps from above\n",
    "bedrooms_idx, sqft_living_idx, yr_sold_idx, yr_built_idx, yr_renovated_idx = 0, 4, -1, 13, 14\n",
    "\n",
    "# add attributes, a custom sklearn transformer needs init, fit, and transform methods\n",
    "# fit_transform is created by adding TransformerMixin and BaseEstimator gives get/\n",
    "# set_params()\n",
    "class FeatureAdder(BaseEstimator, TransformerMixin):\n",
    "    def __init__(self, add_sqft_per_bedroom = True):\n",
    "        self.add_sqft_per_bedroom = add_sqft_per_bedroom\n",
    "    def fit(self, X, y=None):\n",
    "        return self\n",
    "    def transform(self, X):\n",
    "        # Subtract the larger of yr_built or yr_renovated from yr_sold,\n",
    "        # if this is negative (yr_reno after yr_sold) return 0\n",
    "        effective_age_guess = X[:, yr_sold_idx] - np.maximum(X[:, yr_renovated_idx], X[:, yr_built_idx])\n",
    "        effective_age = np.maximum(effective_age_guess, 0)\n",
    "        if self.add_sqft_per_bedroom:\n",
    "            sqft_per_bedroom = X[:, sqft_living_idx] / X[:, bedrooms_idx]\n",
    "            return np.c_[X, effective_age, sqft_per_bedroom]\n",
    "        else:\n",
    "            return np.c_[X, effective_age]\n",
    "        \n",
    "def drop_columns(X):\n",
    "    # drop id, date, yr_renovated, zipcode\n",
    "    return X[:,[0, *range(3, 14), *range(16, 23)]]"
   ]
  },
  {
   "cell_type": "code",
   "execution_count": null,
   "metadata": {},
   "outputs": [],
   "source": [
    "# the feature names in order resulting from 'features_pipe' below\n",
    "features = list(X_train.columns[2:])\n",
    "features.remove('zipcode')\n",
    "features.remove('yr_renovated')\n",
    "features += ['yr_sold', 'effective_age', 'sqft_per_bedroom']"
   ]
  },
  {
   "cell_type": "code",
   "execution_count": null,
   "metadata": {},
   "outputs": [],
   "source": [
    "# pipeline of the above feature engineering steps\n",
    "features_pipe = Pipeline([\n",
    "    ('yr_sold_adder', DateAdder()),\n",
    "    ('bedroom_pipe', bedroom_pipe),\n",
    "    ('feature_adder', FeatureAdder()),\n",
    "    ('column_dropper', FunctionTransformer(drop_columns)),\n",
    "    \n",
    "])"
   ]
  },
  {
   "cell_type": "code",
   "execution_count": 1,
   "metadata": {},
   "outputs": [],
   "source": [
    "# preprocessing steps\n",
    "cat_indices = [*range(5,9)]\n",
    "\n",
    "\n",
    "num_indices = [x for x in range(0, 17) if x not in cat_indices]\n",
    "cat_indices.remove(5)\n",
    "\n",
    "print(cat_indices)\n",
    "num_indices"
   ]
  },
  {
   "cell_type": "code",
   "execution_count": 1,
   "metadata": {},
   "outputs": [],
   "source": [
    "num_pipeline = Pipeline([\n",
    "    ('imputer', SimpleImputer(strategy='median')),\n",
    "    ('scaler', QuantileTransformer(output_distribution='normal'))\n",
    "])\n",
    "\n",
    "cat_pipeline = Pipeline([\n",
    "    ('one_hot', OneHotEncoder())\n",
    "])\n",
    "\n",
    "\n",
    "# Waterfront has only 0 and 1 so is effectively already one-hotted (only column in 'passthrough')\n",
    "preprocessor = ColumnTransformer([\n",
    "    ('num', num_pipeline, num_indices),\n",
    "    ('cat', cat_pipeline, cat_indices)\n",
    "    ], remainder='passthrough')"
   ]
  },
  {
   "cell_type": "code",
   "execution_count": 1,
   "metadata": {},
   "outputs": [
    {
     "name": "stdout",
     "output_type": "stream",
     "text": [
      "[6, 7, 8]\n"
     ]
    },
    {
     "data": {
      "text/plain": [
       "[0, 1, 2, 3, 4, 9, 10, 11, 12, 13, 14, 15, 16]"
      ]
     },
     "execution_count": 1,
     "metadata": {},
     "output_type": "execute_result"
    }
   ],
   "source": [
    "prepared = preprocessor.fit_transform(test_res)"
   ]
  },
  {
   "cell_type": "code",
   "execution_count": 345,
   "metadata": {},
   "outputs": [
    {
     "data": {
      "text/plain": [
       "['waterfront',\n",
       " 'view_0',\n",
       " 'view_1',\n",
       " 'view_2',\n",
       " 'view_3',\n",
       " 'view_4',\n",
       " 'condition_1',\n",
       " 'condition_2',\n",
       " 'condition_3',\n",
       " 'condition_4',\n",
       " 'condition_5',\n",
       " 'grade_3',\n",
       " 'grade_4',\n",
       " 'grade_5',\n",
       " 'grade_6',\n",
       " 'grade_7',\n",
       " 'grade_8',\n",
       " 'grade_9',\n",
       " 'grade_10',\n",
       " 'grade_11',\n",
       " 'grade_12',\n",
       " 'grade_13']"
      ]
     },
     "execution_count": 345,
     "metadata": {},
     "output_type": "execute_result"
    }
   ],
   "source": [
    "cat_features = ['waterfront'] + list(preprocessor.transformers_[2][1]['one_hot']\\\n",
    "                   .get_feature_names(features[6:9]))\n",
    "cat_features"
   ]
  },
  {
   "cell_type": "code",
   "execution_count": 346,
   "metadata": {},
   "outputs": [
    {
     "data": {
      "text/plain": [
       "['bedrooms',\n",
       " 'bathrooms',\n",
       " 'sqft_living',\n",
       " 'sqft_lot',\n",
       " 'floors',\n",
       " 'view',\n",
       " 'condition',\n",
       " 'grade',\n",
       " 'sqft_above',\n",
       " 'sqft_basement',\n",
       " 'yr_built',\n",
       " 'lat',\n",
       " 'long',\n",
       " 'sqft_living15',\n",
       " 'sqft_lot15',\n",
       " 'yr_sold']"
      ]
     },
     "execution_count": 346,
     "metadata": {},
     "output_type": "execute_result"
    }
   ],
   "source": [
    "num_features = [features[idx] for idx in num_indices]\n",
    "num_features"
   ]
  },
  {
   "cell_type": "code",
   "execution_count": 347,
   "metadata": {},
   "outputs": [],
   "source": [
    "features_prepared = num_features + cat_features"
   ]
  },
  {
   "cell_type": "code",
   "execution_count": 348,
   "metadata": {},
   "outputs": [
    {
     "data": {
      "text/plain": [
       "['bedrooms',\n",
       " 'bathrooms',\n",
       " 'sqft_living',\n",
       " 'sqft_lot',\n",
       " 'floors',\n",
       " 'view',\n",
       " 'condition',\n",
       " 'grade',\n",
       " 'sqft_above',\n",
       " 'sqft_basement',\n",
       " 'yr_built',\n",
       " 'lat',\n",
       " 'long',\n",
       " 'sqft_living15',\n",
       " 'sqft_lot15',\n",
       " 'yr_sold',\n",
       " 'waterfront',\n",
       " 'view_0',\n",
       " 'view_1',\n",
       " 'view_2',\n",
       " 'view_3',\n",
       " 'view_4',\n",
       " 'condition_1',\n",
       " 'condition_2',\n",
       " 'condition_3',\n",
       " 'condition_4',\n",
       " 'condition_5',\n",
       " 'grade_3',\n",
       " 'grade_4',\n",
       " 'grade_5',\n",
       " 'grade_6',\n",
       " 'grade_7',\n",
       " 'grade_8',\n",
       " 'grade_9',\n",
       " 'grade_10',\n",
       " 'grade_11',\n",
       " 'grade_12',\n",
       " 'grade_13']"
      ]
     },
     "execution_count": 348,
     "metadata": {},
     "output_type": "execute_result"
    }
   ],
   "source": [
    "features_prepared"
   ]
  }
 ],
 "metadata": {
  "kernelspec": {
   "display_name": "kc-env",
   "language": "python",
   "name": "kc-env"
  },
  "language_info": {
   "codemirror_mode": {
    "name": "ipython",
    "version": 3
   },
   "file_extension": ".py",
   "mimetype": "text/x-python",
   "name": "python",
   "nbconvert_exporter": "python",
   "pygments_lexer": "ipython3",
   "version": "3.8.5"
  }
 },
 "nbformat": 4,
 "nbformat_minor": 4
}
